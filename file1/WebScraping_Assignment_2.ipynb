{
 "cells": [
  {
   "cell_type": "code",
   "execution_count": 77,
   "id": "58dbf5c7",
   "metadata": {},
   "outputs": [],
   "source": [
    "## Qt1:"
   ]
  },
  {
   "cell_type": "code",
   "execution_count": 1,
   "id": "976bc9b8",
   "metadata": {},
   "outputs": [
    {
     "name": "stdout",
     "output_type": "stream",
     "text": [
      "Requirement already satisfied: selenium in c:\\users\\dell\\anaconda3\\lib\\site-packages (4.15.2)\n",
      "Requirement already satisfied: trio~=0.17 in c:\\users\\dell\\anaconda3\\lib\\site-packages (from selenium) (0.23.1)\n",
      "Requirement already satisfied: certifi>=2021.10.8 in c:\\users\\dell\\anaconda3\\lib\\site-packages (from selenium) (2022.12.7)\n",
      "Requirement already satisfied: trio-websocket~=0.9 in c:\\users\\dell\\anaconda3\\lib\\site-packages (from selenium) (0.11.1)\n",
      "Requirement already satisfied: urllib3[socks]<3,>=1.26 in c:\\users\\dell\\anaconda3\\lib\\site-packages (from selenium) (1.26.14)\n",
      "Requirement already satisfied: idna in c:\\users\\dell\\anaconda3\\lib\\site-packages (from trio~=0.17->selenium) (3.4)\n",
      "Requirement already satisfied: sniffio>=1.3.0 in c:\\users\\dell\\anaconda3\\lib\\site-packages (from trio~=0.17->selenium) (1.3.0)\n",
      "Requirement already satisfied: outcome in c:\\users\\dell\\anaconda3\\lib\\site-packages (from trio~=0.17->selenium) (1.3.0.post0)\n",
      "Requirement already satisfied: sortedcontainers in c:\\users\\dell\\anaconda3\\lib\\site-packages (from trio~=0.17->selenium) (2.4.0)\n",
      "Requirement already satisfied: attrs>=20.1.0 in c:\\users\\dell\\anaconda3\\lib\\site-packages (from trio~=0.17->selenium) (22.1.0)\n",
      "Requirement already satisfied: exceptiongroup>=1.0.0rc9 in c:\\users\\dell\\anaconda3\\lib\\site-packages (from trio~=0.17->selenium) (1.2.0)\n",
      "Requirement already satisfied: cffi>=1.14 in c:\\users\\dell\\anaconda3\\lib\\site-packages (from trio~=0.17->selenium) (1.15.1)\n",
      "Requirement already satisfied: wsproto>=0.14 in c:\\users\\dell\\anaconda3\\lib\\site-packages (from trio-websocket~=0.9->selenium) (1.2.0)\n",
      "Requirement already satisfied: PySocks!=1.5.7,<2.0,>=1.5.6 in c:\\users\\dell\\anaconda3\\lib\\site-packages (from urllib3[socks]<3,>=1.26->selenium) (1.7.1)\n",
      "Requirement already satisfied: pycparser in c:\\users\\dell\\anaconda3\\lib\\site-packages (from cffi>=1.14->trio~=0.17->selenium) (2.21)\n",
      "Requirement already satisfied: h11<1,>=0.9.0 in c:\\users\\dell\\anaconda3\\lib\\site-packages (from wsproto>=0.14->trio-websocket~=0.9->selenium) (0.14.0)\n"
     ]
    }
   ],
   "source": [
    "!pip install selenium"
   ]
  },
  {
   "cell_type": "code",
   "execution_count": 2,
   "id": "297dd81f",
   "metadata": {},
   "outputs": [],
   "source": [
    "import selenium\n",
    "import pandas as pd\n",
    "from selenium import webdriver\n",
    "import warnings\n",
    "warnings.filterwarnings('ignore')\n",
    "from selenium.webdriver.common.by import By\n",
    "import time"
   ]
  },
  {
   "cell_type": "code",
   "execution_count": 115,
   "id": "8895b7b3",
   "metadata": {},
   "outputs": [],
   "source": [
    "driver = webdriver.Chrome()"
   ]
  },
  {
   "cell_type": "code",
   "execution_count": 116,
   "id": "e884c965",
   "metadata": {},
   "outputs": [],
   "source": [
    "driver.get(\"https://www.shine.com/\")"
   ]
  },
  {
   "cell_type": "code",
   "execution_count": 117,
   "id": "0c3e10ad",
   "metadata": {},
   "outputs": [],
   "source": [
    "title = driver.find_element(By.CLASS_NAME,\"form-control\")\n",
    "title.send_keys('Data Analyst')\n"
   ]
  },
  {
   "cell_type": "code",
   "execution_count": 118,
   "id": "1b451191",
   "metadata": {},
   "outputs": [],
   "source": [
    "location =  driver.find_element(By.XPATH,\"/html/body/div/div[4]/div/div[2]/div[2]/div/form/div/div[1]/ul/li[2]/div/input\")\n",
    "location.send_keys('Bangalore')"
   ]
  },
  {
   "cell_type": "code",
   "execution_count": 119,
   "id": "24c7fbe4",
   "metadata": {},
   "outputs": [],
   "source": [
    "search = driver.find_element(By.XPATH,\"/html/body/div/div[4]/div/div[2]/div[2]/div/form/div/div[2]/div/button\")\n",
    "search.click()"
   ]
  },
  {
   "cell_type": "code",
   "execution_count": 120,
   "id": "6bc370c1",
   "metadata": {},
   "outputs": [],
   "source": [
    "job_title = []\n",
    "job_location = []\n",
    "company_name = []\n",
    "exp_req = []"
   ]
  },
  {
   "cell_type": "code",
   "execution_count": 121,
   "id": "0d529292",
   "metadata": {},
   "outputs": [],
   "source": [
    "title_tag = driver.find_elements(By.XPATH,'//h2[@itemprop=\"name\"]/a')[:10]\n",
    "for i in title_tag:\n",
    "    title = i.text\n",
    "    job_title.append(title)"
   ]
  },
  {
   "cell_type": "code",
   "execution_count": 123,
   "id": "1809bad8",
   "metadata": {},
   "outputs": [],
   "source": [
    "job_tag = driver.find_elements(By.XPATH,'//div[@class=\" jobCard_jobCard_lists_item__YxRkV jobCard_locationIcon__zrWt2\"]')[:10]\n",
    "for i in job_tag:\n",
    "    job = i.text\n",
    "    job_location.append(job)"
   ]
  },
  {
   "cell_type": "code",
   "execution_count": 125,
   "id": "3f1ee847",
   "metadata": {},
   "outputs": [],
   "source": [
    "company_tag = driver.find_elements(By.XPATH,'//div[@class=\"jobCard_jobCard_cName__mYnow\"]')[:10]\n",
    "for i in company_tag:\n",
    "    company = i.text\n",
    "    company_name.append(company)"
   ]
  },
  {
   "cell_type": "code",
   "execution_count": 127,
   "id": "811591ac",
   "metadata": {},
   "outputs": [],
   "source": [
    "experience_tag = driver.find_elements(By.XPATH,'//div[@class=\" jobCard_jobCard_lists_item__YxRkV jobCard_jobIcon__3FB1t\"]')[:10]\n",
    "for i in experience_tag:\n",
    "    experience = i.text\n",
    "    exp_req.append(experience)"
   ]
  },
  {
   "cell_type": "code",
   "execution_count": 129,
   "id": "27e449a9",
   "metadata": {},
   "outputs": [
    {
     "data": {
      "text/html": [
       "<div>\n",
       "<style scoped>\n",
       "    .dataframe tbody tr th:only-of-type {\n",
       "        vertical-align: middle;\n",
       "    }\n",
       "\n",
       "    .dataframe tbody tr th {\n",
       "        vertical-align: top;\n",
       "    }\n",
       "\n",
       "    .dataframe thead th {\n",
       "        text-align: right;\n",
       "    }\n",
       "</style>\n",
       "<table border=\"1\" class=\"dataframe\">\n",
       "  <thead>\n",
       "    <tr style=\"text-align: right;\">\n",
       "      <th></th>\n",
       "      <th>Title</th>\n",
       "      <th>Location</th>\n",
       "      <th>Company</th>\n",
       "      <th>Experience</th>\n",
       "    </tr>\n",
       "  </thead>\n",
       "  <tbody>\n",
       "    <tr>\n",
       "      <th>0</th>\n",
       "      <td>Data Analyst Recruitment</td>\n",
       "      <td>Bangalore\\n+13</td>\n",
       "      <td>kavya interprises</td>\n",
       "      <td>0 to 4 Yrs</td>\n",
       "    </tr>\n",
       "    <tr>\n",
       "      <th>1</th>\n",
       "      <td>Data Analyst</td>\n",
       "      <td>Bangalore\\n+9</td>\n",
       "      <td>hire connect</td>\n",
       "      <td>0 to 1 Yr</td>\n",
       "    </tr>\n",
       "    <tr>\n",
       "      <th>2</th>\n",
       "      <td>Vacancy For Data Analyst</td>\n",
       "      <td>Bangalore\\n+13</td>\n",
       "      <td>kavya interprises</td>\n",
       "      <td>0 to 4 Yrs</td>\n",
       "    </tr>\n",
       "    <tr>\n",
       "      <th>3</th>\n",
       "      <td>Project Coordinator (Data Analyst) Bangalore</td>\n",
       "      <td>Bangalore</td>\n",
       "      <td>futures and careers</td>\n",
       "      <td>2 to 4 Yrs</td>\n",
       "    </tr>\n",
       "    <tr>\n",
       "      <th>4</th>\n",
       "      <td>Project Coordinator (Data analyst) Bangalore</td>\n",
       "      <td>Bangalore</td>\n",
       "      <td>futures and careers</td>\n",
       "      <td>2 to 4 Yrs</td>\n",
       "    </tr>\n",
       "    <tr>\n",
       "      <th>5</th>\n",
       "      <td>Business Data Analyst - Modeling &amp; Profiling</td>\n",
       "      <td>Bangalore</td>\n",
       "      <td>boyen haddin consulting and technol...</td>\n",
       "      <td>2 to 6 Yrs</td>\n",
       "    </tr>\n",
       "    <tr>\n",
       "      <th>6</th>\n",
       "      <td>Data analyst - Java / Python</td>\n",
       "      <td>Bangalore</td>\n",
       "      <td>boyen haddin consulting and technol...</td>\n",
       "      <td>5 to 10 Yrs</td>\n",
       "    </tr>\n",
       "    <tr>\n",
       "      <th>7</th>\n",
       "      <td>Data Analyst - Java/Python</td>\n",
       "      <td>Bangalore</td>\n",
       "      <td>boyen haddin consulting and technol...</td>\n",
       "      <td>2 to 6 Yrs</td>\n",
       "    </tr>\n",
       "    <tr>\n",
       "      <th>8</th>\n",
       "      <td>Data Analyst - SQL/ Database Maintenance</td>\n",
       "      <td>Bangalore</td>\n",
       "      <td>boyen haddin consulting and technol...</td>\n",
       "      <td>2 to 6 Yrs</td>\n",
       "    </tr>\n",
       "    <tr>\n",
       "      <th>9</th>\n",
       "      <td>Business Data Analyst - Modeling &amp; Profiling</td>\n",
       "      <td>Bangalore</td>\n",
       "      <td>boyen haddin consulting and technol...</td>\n",
       "      <td>2 to 6 Yrs</td>\n",
       "    </tr>\n",
       "  </tbody>\n",
       "</table>\n",
       "</div>"
      ],
      "text/plain": [
       "                                          Title        Location  \\\n",
       "0                      Data Analyst Recruitment  Bangalore\\n+13   \n",
       "1                                  Data Analyst   Bangalore\\n+9   \n",
       "2                      Vacancy For Data Analyst  Bangalore\\n+13   \n",
       "3  Project Coordinator (Data Analyst) Bangalore       Bangalore   \n",
       "4  Project Coordinator (Data analyst) Bangalore       Bangalore   \n",
       "5  Business Data Analyst - Modeling & Profiling       Bangalore   \n",
       "6                  Data analyst - Java / Python       Bangalore   \n",
       "7                    Data Analyst - Java/Python       Bangalore   \n",
       "8      Data Analyst - SQL/ Database Maintenance       Bangalore   \n",
       "9  Business Data Analyst - Modeling & Profiling       Bangalore   \n",
       "\n",
       "                                  Company   Experience  \n",
       "0                       kavya interprises   0 to 4 Yrs  \n",
       "1                            hire connect    0 to 1 Yr  \n",
       "2                       kavya interprises   0 to 4 Yrs  \n",
       "3                     futures and careers   2 to 4 Yrs  \n",
       "4                     futures and careers   2 to 4 Yrs  \n",
       "5  boyen haddin consulting and technol...   2 to 6 Yrs  \n",
       "6  boyen haddin consulting and technol...  5 to 10 Yrs  \n",
       "7  boyen haddin consulting and technol...   2 to 6 Yrs  \n",
       "8  boyen haddin consulting and technol...   2 to 6 Yrs  \n",
       "9  boyen haddin consulting and technol...   2 to 6 Yrs  "
      ]
     },
     "execution_count": 129,
     "metadata": {},
     "output_type": "execute_result"
    }
   ],
   "source": [
    "import pandas as pd\n",
    "df = pd.DataFrame({'Title':job_title,'Location':job_location,'Company':company_name,'Experience':exp_req})\n",
    "df"
   ]
  },
  {
   "cell_type": "code",
   "execution_count": 33,
   "id": "e84b03e9",
   "metadata": {},
   "outputs": [],
   "source": [
    "##Q2:"
   ]
  },
  {
   "cell_type": "code",
   "execution_count": 130,
   "id": "1bcae325",
   "metadata": {},
   "outputs": [],
   "source": [
    "driver = webdriver.Chrome()"
   ]
  },
  {
   "cell_type": "code",
   "execution_count": 131,
   "id": "cb3ab173",
   "metadata": {},
   "outputs": [],
   "source": [
    "driver.get(\"https://www.shine.com/\")"
   ]
  },
  {
   "cell_type": "code",
   "execution_count": 132,
   "id": "ba955fe3",
   "metadata": {},
   "outputs": [],
   "source": [
    "title = driver.find_element(By.CLASS_NAME,\"form-control\")\n",
    "title.send_keys('Data Scientist')\n"
   ]
  },
  {
   "cell_type": "code",
   "execution_count": 133,
   "id": "5ad2df4d",
   "metadata": {},
   "outputs": [],
   "source": [
    "location =  driver.find_element(By.XPATH,\"/html/body/div/div[4]/div/div[2]/div[2]/div/form/div/div[1]/ul/li[2]/div/input\")\n",
    "location.send_keys('Bangalore')"
   ]
  },
  {
   "cell_type": "code",
   "execution_count": 134,
   "id": "70c84af9",
   "metadata": {},
   "outputs": [],
   "source": [
    "search = driver.find_element(By.XPATH,\"/html/body/div/div[4]/div/div[2]/div[2]/div/form/div/div[2]/div/button\")\n",
    "search.click()"
   ]
  },
  {
   "cell_type": "code",
   "execution_count": 135,
   "id": "8976fe43",
   "metadata": {},
   "outputs": [],
   "source": [
    "job_title = []\n",
    "job_location = []\n",
    "company_name = []\n",
    "exp_req = []"
   ]
  },
  {
   "cell_type": "code",
   "execution_count": 136,
   "id": "62edae78",
   "metadata": {},
   "outputs": [],
   "source": [
    "title_tag = driver.find_elements(By.XPATH,'//h2[@itemprop=\"name\"]/a')[:10]\n",
    "for i in title_tag:\n",
    "    title = i.text\n",
    "    job_title.append(title)\n",
    "    \n",
    "job_tag = driver.find_elements(By.XPATH,'//div[@class=\" jobCard_jobCard_lists_item__YxRkV jobCard_locationIcon__zrWt2\"]')[:10]\n",
    "for i in job_tag:\n",
    "    job = i.text\n",
    "    job_location.append(job)\n",
    "    \n",
    "company_tag = driver.find_elements(By.XPATH,'//div[@class=\"jobCard_jobCard_cName__mYnow\"]')[:10]\n",
    "for i in company_tag:\n",
    "    company = i.text\n",
    "    company_name.append(company)\n",
    "    \n",
    "experience_tag = driver.find_elements(By.XPATH,'//div[@class=\" jobCard_jobCard_lists_item__YxRkV jobCard_jobIcon__3FB1t\"]')[:10]\n",
    "for i in experience_tag:\n",
    "    experience = i.text\n",
    "    exp_req.append(experience)"
   ]
  },
  {
   "cell_type": "code",
   "execution_count": 137,
   "id": "784fd6ba",
   "metadata": {},
   "outputs": [
    {
     "name": "stdout",
     "output_type": "stream",
     "text": [
      "10 10 10 10\n"
     ]
    }
   ],
   "source": [
    "print(len(job_title),len(job_location),len(company_name),len(exp_req ))"
   ]
  },
  {
   "cell_type": "code",
   "execution_count": 138,
   "id": "643527ed",
   "metadata": {},
   "outputs": [
    {
     "data": {
      "text/html": [
       "<div>\n",
       "<style scoped>\n",
       "    .dataframe tbody tr th:only-of-type {\n",
       "        vertical-align: middle;\n",
       "    }\n",
       "\n",
       "    .dataframe tbody tr th {\n",
       "        vertical-align: top;\n",
       "    }\n",
       "\n",
       "    .dataframe thead th {\n",
       "        text-align: right;\n",
       "    }\n",
       "</style>\n",
       "<table border=\"1\" class=\"dataframe\">\n",
       "  <thead>\n",
       "    <tr style=\"text-align: right;\">\n",
       "      <th></th>\n",
       "      <th>Title</th>\n",
       "      <th>Location</th>\n",
       "      <th>Company</th>\n",
       "      <th>Experience</th>\n",
       "    </tr>\n",
       "  </thead>\n",
       "  <tbody>\n",
       "    <tr>\n",
       "      <th>0</th>\n",
       "      <td>Data scientist</td>\n",
       "      <td>Bangalore\\n+8</td>\n",
       "      <td>capgemini technology services india...</td>\n",
       "      <td>6 to 11 Yrs</td>\n",
       "    </tr>\n",
       "    <tr>\n",
       "      <th>1</th>\n",
       "      <td>Data Scientist - Business Intelligence</td>\n",
       "      <td>Bangalore</td>\n",
       "      <td>boyen haddin consulting and technol...</td>\n",
       "      <td>2 to 6 Yrs</td>\n",
       "    </tr>\n",
       "    <tr>\n",
       "      <th>2</th>\n",
       "      <td>Data Scientist for Bangalore</td>\n",
       "      <td>Bangalore</td>\n",
       "      <td>get hired</td>\n",
       "      <td>0 to 3 Yrs</td>\n",
       "    </tr>\n",
       "    <tr>\n",
       "      <th>3</th>\n",
       "      <td>Data Scientist - Spark/Python/Redshift</td>\n",
       "      <td>Bangalore</td>\n",
       "      <td>boyen haddin consulting and technol...</td>\n",
       "      <td>4 to 8 Yrs</td>\n",
       "    </tr>\n",
       "    <tr>\n",
       "      <th>4</th>\n",
       "      <td>Data Scientist - Machine Learning</td>\n",
       "      <td>Bangalore</td>\n",
       "      <td>boyen haddin consulting and technol...</td>\n",
       "      <td>2 to 4 Yrs</td>\n",
       "    </tr>\n",
       "    <tr>\n",
       "      <th>5</th>\n",
       "      <td>Hiring For Data Scientist</td>\n",
       "      <td>Bangalore\\n+13</td>\n",
       "      <td>kavya interprises</td>\n",
       "      <td>0 to 4 Yrs</td>\n",
       "    </tr>\n",
       "    <tr>\n",
       "      <th>6</th>\n",
       "      <td>Hiring For Data Scientist</td>\n",
       "      <td>Bangalore\\n+13</td>\n",
       "      <td>kavya interprises</td>\n",
       "      <td>0 to 4 Yrs</td>\n",
       "    </tr>\n",
       "    <tr>\n",
       "      <th>7</th>\n",
       "      <td>Data Scientist</td>\n",
       "      <td>Bangalore</td>\n",
       "      <td>ibm india pvt. limited</td>\n",
       "      <td>10 to 12 Yrs</td>\n",
       "    </tr>\n",
       "    <tr>\n",
       "      <th>8</th>\n",
       "      <td>Data Scientist- Associate</td>\n",
       "      <td>Bangalore</td>\n",
       "      <td>jpmorgan</td>\n",
       "      <td>4 to 6 Yrs</td>\n",
       "    </tr>\n",
       "    <tr>\n",
       "      <th>9</th>\n",
       "      <td>Data Scientist Vacancy</td>\n",
       "      <td>Bangalore\\n+14</td>\n",
       "      <td>divya interprises</td>\n",
       "      <td>0 to 4 Yrs</td>\n",
       "    </tr>\n",
       "  </tbody>\n",
       "</table>\n",
       "</div>"
      ],
      "text/plain": [
       "                                    Title        Location  \\\n",
       "0                          Data scientist   Bangalore\\n+8   \n",
       "1  Data Scientist - Business Intelligence       Bangalore   \n",
       "2            Data Scientist for Bangalore       Bangalore   \n",
       "3  Data Scientist - Spark/Python/Redshift       Bangalore   \n",
       "4       Data Scientist - Machine Learning       Bangalore   \n",
       "5               Hiring For Data Scientist  Bangalore\\n+13   \n",
       "6               Hiring For Data Scientist  Bangalore\\n+13   \n",
       "7                          Data Scientist       Bangalore   \n",
       "8               Data Scientist- Associate       Bangalore   \n",
       "9                  Data Scientist Vacancy  Bangalore\\n+14   \n",
       "\n",
       "                                  Company    Experience  \n",
       "0  capgemini technology services india...   6 to 11 Yrs  \n",
       "1  boyen haddin consulting and technol...    2 to 6 Yrs  \n",
       "2                               get hired    0 to 3 Yrs  \n",
       "3  boyen haddin consulting and technol...    4 to 8 Yrs  \n",
       "4  boyen haddin consulting and technol...    2 to 4 Yrs  \n",
       "5                       kavya interprises    0 to 4 Yrs  \n",
       "6                       kavya interprises    0 to 4 Yrs  \n",
       "7                  ibm india pvt. limited  10 to 12 Yrs  \n",
       "8                                jpmorgan    4 to 6 Yrs  \n",
       "9                       divya interprises    0 to 4 Yrs  "
      ]
     },
     "execution_count": 138,
     "metadata": {},
     "output_type": "execute_result"
    }
   ],
   "source": [
    "import pandas as pd\n",
    "df = pd.DataFrame({'Title':job_title,'Location':job_location,'Company':company_name,'Experience':exp_req})\n",
    "df"
   ]
  },
  {
   "cell_type": "code",
   "execution_count": 55,
   "id": "82bcf339",
   "metadata": {},
   "outputs": [],
   "source": [
    "##Q3:"
   ]
  },
  {
   "cell_type": "code",
   "execution_count": 139,
   "id": "9e946b1c",
   "metadata": {},
   "outputs": [],
   "source": [
    "driver = webdriver.Chrome()"
   ]
  },
  {
   "cell_type": "code",
   "execution_count": 140,
   "id": "ce8ced62",
   "metadata": {},
   "outputs": [],
   "source": [
    "driver.get(\"https://www.shine.com/\")"
   ]
  },
  {
   "cell_type": "code",
   "execution_count": 143,
   "id": "4cb22f75",
   "metadata": {},
   "outputs": [],
   "source": [
    "skill=driver.find_element(By.CLASS_NAME,\"input\")\n",
    "skill.click()\n",
    "title = driver.find_element(By.CLASS_NAME,\"form-control\")\n",
    "title.send_keys('Data Scientist')\n",
    "search = driver.find_element(By.XPATH,\"/html/body/div/div[4]/div/div[2]/div[2]/div/form/div/div[2]/div/button\")\n",
    "search.click()"
   ]
  },
  {
   "cell_type": "code",
   "execution_count": 144,
   "id": "7aa2f7d5",
   "metadata": {},
   "outputs": [],
   "source": [
    "location=driver.find_element(By.XPATH,'/html/body/div[1]/div[1]/div[3]/div/div[1]/div/div[2]/div/ul/li[1]/button')\n",
    "location.click()"
   ]
  },
  {
   "cell_type": "code",
   "execution_count": 145,
   "id": "b7d1b5af",
   "metadata": {},
   "outputs": [],
   "source": [
    "location=driver.find_element(By.CLASS_NAME,\"form-control\")\n",
    "location.send_keys('Delhi')\n"
   ]
  },
  {
   "cell_type": "code",
   "execution_count": 146,
   "id": "c62acd23",
   "metadata": {},
   "outputs": [],
   "source": [
    "result=driver.find_element(By.XPATH,\"/html/body/div[1]/div[1]/div[3]/div/div[1]/div/div[2]/div[2]/div/div/div/div[3]/div/div/div/ul/li[2]/span/label\")\n",
    "result.click()\n",
    "\n"
   ]
  },
  {
   "cell_type": "code",
   "execution_count": 147,
   "id": "8abd7747",
   "metadata": {},
   "outputs": [],
   "source": [
    "result=driver.find_element(By.XPATH,'/html/body/div[1]/div[1]/div[3]/div/div[1]/div/div[2]/div[2]/div/div/div/div[4]/button[2]')\n",
    "result.click()\n"
   ]
  },
  {
   "cell_type": "code",
   "execution_count": 148,
   "id": "5da3a4a7",
   "metadata": {},
   "outputs": [],
   "source": [
    "salary = driver.find_element(By.XPATH,'/html/body/div[1]/div[1]/div[3]/div/div[1]/div/div[2]/div/ul/li[3]/button')\n",
    "salary.click()"
   ]
  },
  {
   "cell_type": "code",
   "execution_count": 149,
   "id": "f30ec975",
   "metadata": {},
   "outputs": [],
   "source": [
    "salary=driver.find_element(By.CLASS_NAME,\"form-control\")\n",
    "salary.send_keys('3 to 5')\n"
   ]
  },
  {
   "cell_type": "code",
   "execution_count": 150,
   "id": "6bf9fa45",
   "metadata": {},
   "outputs": [],
   "source": [
    "result=driver.find_element(By.XPATH,\"/html/body/div[1]/div[1]/div[3]/div/div[1]/div/div[2]/div[2]/div/div/div/div[3]/div/div/div/ul/li[2]/span/label\")\n",
    "result.click()\n",
    "\n"
   ]
  },
  {
   "cell_type": "code",
   "execution_count": 151,
   "id": "e18e71d0",
   "metadata": {},
   "outputs": [],
   "source": [
    "show=driver.find_element(By.XPATH,'/html/body/div[1]/div[1]/div[3]/div/div[1]/div/div[2]/div[2]/div/div/div/div[4]/button[2]')\n",
    "show.click()"
   ]
  },
  {
   "cell_type": "code",
   "execution_count": 152,
   "id": "8e4146e4",
   "metadata": {},
   "outputs": [],
   "source": [
    "job_title = []\n",
    "job_location = []\n",
    "company_name = []\n",
    "exp_req = []"
   ]
  },
  {
   "cell_type": "code",
   "execution_count": 153,
   "id": "f07f27cb",
   "metadata": {},
   "outputs": [],
   "source": [
    "title_tag = driver.find_elements(By.XPATH,'//h2[@itemprop=\"name\"]/a')[:10]\n",
    "for i in title_tag:\n",
    "    title = i.text\n",
    "    job_title.append(title)\n",
    "    \n",
    "job_tag = driver.find_elements(By.XPATH,'//div[@class=\" jobCard_jobCard_lists_item__YxRkV jobCard_locationIcon__zrWt2\"]')[:10]\n",
    "for i in job_tag:\n",
    "    job = i.text\n",
    "    job_location.append(job)\n",
    "    \n",
    "company_tag = driver.find_elements(By.XPATH,'//div[@class=\"jobCard_jobCard_cName__mYnow\"]')[:10]\n",
    "for i in company_tag:\n",
    "    company = i.text\n",
    "    company_name.append(company)\n",
    "    \n",
    "experience_tag = driver.find_elements(By.XPATH,'//div[@class=\" jobCard_jobCard_lists_item__YxRkV jobCard_jobIcon__3FB1t\"]')[:10]\n",
    "for i in experience_tag:\n",
    "    experience = i.text\n",
    "    exp_req.append(experience)"
   ]
  },
  {
   "cell_type": "code",
   "execution_count": 154,
   "id": "ef4b5251",
   "metadata": {},
   "outputs": [
    {
     "name": "stdout",
     "output_type": "stream",
     "text": [
      "10 10 10 10\n"
     ]
    }
   ],
   "source": [
    "print(len(job_title),len(job_location),len(company_name),len(exp_req ))"
   ]
  },
  {
   "cell_type": "code",
   "execution_count": 155,
   "id": "2df0d229",
   "metadata": {},
   "outputs": [
    {
     "data": {
      "text/html": [
       "<div>\n",
       "<style scoped>\n",
       "    .dataframe tbody tr th:only-of-type {\n",
       "        vertical-align: middle;\n",
       "    }\n",
       "\n",
       "    .dataframe tbody tr th {\n",
       "        vertical-align: top;\n",
       "    }\n",
       "\n",
       "    .dataframe thead th {\n",
       "        text-align: right;\n",
       "    }\n",
       "</style>\n",
       "<table border=\"1\" class=\"dataframe\">\n",
       "  <thead>\n",
       "    <tr style=\"text-align: right;\">\n",
       "      <th></th>\n",
       "      <th>Title</th>\n",
       "      <th>Location</th>\n",
       "      <th>Company</th>\n",
       "      <th>Experience</th>\n",
       "    </tr>\n",
       "  </thead>\n",
       "  <tbody>\n",
       "    <tr>\n",
       "      <th>0</th>\n",
       "      <td>Data Scientist for Delhi</td>\n",
       "      <td>Delhi</td>\n",
       "      <td>get hired</td>\n",
       "      <td>0 to 3 Yrs</td>\n",
       "    </tr>\n",
       "    <tr>\n",
       "      <th>1</th>\n",
       "      <td>Data Scientist- Delhi</td>\n",
       "      <td>Delhi</td>\n",
       "      <td>the fashion cosmo</td>\n",
       "      <td>0 to 3 Yrs</td>\n",
       "    </tr>\n",
       "    <tr>\n",
       "      <th>2</th>\n",
       "      <td>Data Scientist-Delhi</td>\n",
       "      <td>Delhi</td>\n",
       "      <td>shiva hr services</td>\n",
       "      <td>0 to 3 Yrs</td>\n",
       "    </tr>\n",
       "    <tr>\n",
       "      <th>3</th>\n",
       "      <td>Clinical Data Management</td>\n",
       "      <td>Delhi\\n+6</td>\n",
       "      <td>techno endura</td>\n",
       "      <td>0 to 1 Yr</td>\n",
       "    </tr>\n",
       "    <tr>\n",
       "      <th>4</th>\n",
       "      <td>Data Scientist- Delhi</td>\n",
       "      <td>Delhi</td>\n",
       "      <td>the fashion cosmo</td>\n",
       "      <td>0 to 3 Yrs</td>\n",
       "    </tr>\n",
       "    <tr>\n",
       "      <th>5</th>\n",
       "      <td>Data Scientist- Delhi</td>\n",
       "      <td>Delhi</td>\n",
       "      <td>the fashion cosmo</td>\n",
       "      <td>0 to 3 Yrs</td>\n",
       "    </tr>\n",
       "    <tr>\n",
       "      <th>6</th>\n",
       "      <td>Clinical Data Manager</td>\n",
       "      <td>Delhi\\n+6</td>\n",
       "      <td>techno endura</td>\n",
       "      <td>0 to 1 Yr</td>\n",
       "    </tr>\n",
       "    <tr>\n",
       "      <th>7</th>\n",
       "      <td>Work Full/part-time / Work From Home / Compute...</td>\n",
       "      <td>Delhi\\n+4</td>\n",
       "      <td>desnor destination pvt. ltd.</td>\n",
       "      <td>0 to 4 Yrs</td>\n",
       "    </tr>\n",
       "    <tr>\n",
       "      <th>8</th>\n",
       "      <td>Typing Work-Data Entry-Computer Operator-Freel...</td>\n",
       "      <td>Delhi\\n+4</td>\n",
       "      <td>desnor destination pvt. ltd.</td>\n",
       "      <td>0 to 4 Yrs</td>\n",
       "    </tr>\n",
       "    <tr>\n",
       "      <th>9</th>\n",
       "      <td>Clinical Data Analyst</td>\n",
       "      <td>Delhi\\n+6</td>\n",
       "      <td>techno endura</td>\n",
       "      <td>0 to 1 Yr</td>\n",
       "    </tr>\n",
       "  </tbody>\n",
       "</table>\n",
       "</div>"
      ],
      "text/plain": [
       "                                               Title   Location  \\\n",
       "0                           Data Scientist for Delhi      Delhi   \n",
       "1                              Data Scientist- Delhi      Delhi   \n",
       "2                               Data Scientist-Delhi      Delhi   \n",
       "3                           Clinical Data Management  Delhi\\n+6   \n",
       "4                              Data Scientist- Delhi      Delhi   \n",
       "5                              Data Scientist- Delhi      Delhi   \n",
       "6                              Clinical Data Manager  Delhi\\n+6   \n",
       "7  Work Full/part-time / Work From Home / Compute...  Delhi\\n+4   \n",
       "8  Typing Work-Data Entry-Computer Operator-Freel...  Delhi\\n+4   \n",
       "9                              Clinical Data Analyst  Delhi\\n+6   \n",
       "\n",
       "                        Company  Experience  \n",
       "0                     get hired  0 to 3 Yrs  \n",
       "1             the fashion cosmo  0 to 3 Yrs  \n",
       "2             shiva hr services  0 to 3 Yrs  \n",
       "3                 techno endura   0 to 1 Yr  \n",
       "4             the fashion cosmo  0 to 3 Yrs  \n",
       "5             the fashion cosmo  0 to 3 Yrs  \n",
       "6                 techno endura   0 to 1 Yr  \n",
       "7  desnor destination pvt. ltd.  0 to 4 Yrs  \n",
       "8  desnor destination pvt. ltd.  0 to 4 Yrs  \n",
       "9                 techno endura   0 to 1 Yr  "
      ]
     },
     "execution_count": 155,
     "metadata": {},
     "output_type": "execute_result"
    }
   ],
   "source": [
    "import pandas as pd\n",
    "df = pd.DataFrame({'Title':job_title,'Location':job_location,'Company':company_name,'Experience':exp_req})\n",
    "df"
   ]
  },
  {
   "cell_type": "code",
   "execution_count": 145,
   "id": "c379641d",
   "metadata": {},
   "outputs": [],
   "source": [
    "##Q4"
   ]
  },
  {
   "cell_type": "code",
   "execution_count": 195,
   "id": "2afa1abb",
   "metadata": {},
   "outputs": [],
   "source": [
    "driver = webdriver.Chrome()"
   ]
  },
  {
   "cell_type": "code",
   "execution_count": 196,
   "id": "34f2d3b2",
   "metadata": {},
   "outputs": [],
   "source": [
    "driver.get(\"https://www.flipkart.com/\")"
   ]
  },
  {
   "cell_type": "code",
   "execution_count": 197,
   "id": "c01fd185",
   "metadata": {},
   "outputs": [],
   "source": [
    "search = driver.find_element(By.CLASS_NAME,\"_3704LK\")\n",
    "search.send_keys('sunglasses')\n"
   ]
  },
  {
   "cell_type": "code",
   "execution_count": 198,
   "id": "e5b63668",
   "metadata": {},
   "outputs": [],
   "source": [
    "sclick = driver.find_element(By.CLASS_NAME,\"_34RNph\")\n",
    "sclick.click()"
   ]
  },
  {
   "cell_type": "code",
   "execution_count": 199,
   "id": "69ea6a4c",
   "metadata": {},
   "outputs": [],
   "source": [
    "Brand = []\n",
    "Price= []\n",
    "Product_description= []\n"
   ]
  },
  {
   "cell_type": "code",
   "execution_count": 200,
   "id": "1ffd3383",
   "metadata": {},
   "outputs": [],
   "source": [
    "Brand_tag = driver.find_elements(By.CLASS_NAME,\"_2WkVRV\")\n",
    "for i in Brand_tag:\n",
    "    brandd = i.text\n",
    "    Brand.append(brandd)\n",
    "    "
   ]
  },
  {
   "cell_type": "code",
   "execution_count": 201,
   "id": "a0aa56a9",
   "metadata": {},
   "outputs": [],
   "source": [
    "price_tag = driver.find_elements(By.XPATH,'//a[@class=\"_3bPFwb\"]/div')\n",
    "for i in price_tag:\n",
    "    price=i.text\n",
    "    Price.append(price)"
   ]
  },
  {
   "cell_type": "code",
   "execution_count": 202,
   "id": "0bb25779",
   "metadata": {},
   "outputs": [],
   "source": [
    "pd_tag = driver.find_elements(By.XPATH,'//div[@class=\"_2B099V\"]/a')[:40]\n",
    "for i in pd_tag:\n",
    "    pd=i.text\n",
    "    Product_description.append(pd)"
   ]
  },
  {
   "cell_type": "code",
   "execution_count": 205,
   "id": "4e0b4f24",
   "metadata": {},
   "outputs": [],
   "source": [
    "nclick = driver.find_element(By.CLASS_NAME,\"_1LKTO3\")\n",
    "nclick.click()"
   ]
  },
  {
   "cell_type": "code",
   "execution_count": 206,
   "id": "3db76739",
   "metadata": {},
   "outputs": [],
   "source": [
    "Brand_tag = driver.find_elements(By.CLASS_NAME,\"_2WkVRV\")\n",
    "for i in Brand_tag:\n",
    "    brandd = i.text\n",
    "    Brand.append(brandd)"
   ]
  },
  {
   "cell_type": "code",
   "execution_count": 207,
   "id": "b6b928bb",
   "metadata": {},
   "outputs": [],
   "source": [
    "price_tag = driver.find_elements(By.XPATH,'//a[@class=\"_3bPFwb\"]/div')\n",
    "for i in price_tag:\n",
    "    price=i.text\n",
    "    Price.append(price)"
   ]
  },
  {
   "cell_type": "code",
   "execution_count": 209,
   "id": "048207c8",
   "metadata": {},
   "outputs": [],
   "source": [
    "pd_tag = driver.find_elements(By.XPATH,'//div[@class=\"_2B099V\"]/a')[:40]\n",
    "for i in pd_tag:\n",
    "    pd=i.text\n",
    "    Product_description.append(pd)"
   ]
  },
  {
   "cell_type": "code",
   "execution_count": 213,
   "id": "504e344c",
   "metadata": {},
   "outputs": [],
   "source": [
    "nclick = driver.find_element(By.XPATH,'/html/body/div/div/div[3]/div[1]/div[2]/div[12]/div/div/nav/a[12]')\n",
    "nclick.click()"
   ]
  },
  {
   "cell_type": "code",
   "execution_count": 214,
   "id": "b76aa23b",
   "metadata": {},
   "outputs": [],
   "source": [
    "Brand_tag = driver.find_elements(By.CLASS_NAME,\"_2WkVRV\")[:20]\n",
    "for i in Brand_tag:\n",
    "    brandd = i.text\n",
    "    Brand.append(brandd)"
   ]
  },
  {
   "cell_type": "code",
   "execution_count": 215,
   "id": "73eea5fd",
   "metadata": {},
   "outputs": [],
   "source": [
    "price_tag = driver.find_elements(By.XPATH,'//a[@class=\"_3bPFwb\"]/div')[:20]\n",
    "for i in price_tag:\n",
    "    price=i.text\n",
    "    Price.append(price)"
   ]
  },
  {
   "cell_type": "code",
   "execution_count": 216,
   "id": "ca46a4c0",
   "metadata": {},
   "outputs": [],
   "source": [
    "pd_tag = driver.find_elements(By.XPATH,'//div[@class=\"_2B099V\"]/a')[:20]\n",
    "for i in pd_tag:\n",
    "    pd=i.text\n",
    "    Product_description.append(pd)"
   ]
  },
  {
   "cell_type": "code",
   "execution_count": 219,
   "id": "193314ce",
   "metadata": {},
   "outputs": [
    {
     "data": {
      "text/html": [
       "<div>\n",
       "<style scoped>\n",
       "    .dataframe tbody tr th:only-of-type {\n",
       "        vertical-align: middle;\n",
       "    }\n",
       "\n",
       "    .dataframe tbody tr th {\n",
       "        vertical-align: top;\n",
       "    }\n",
       "\n",
       "    .dataframe thead th {\n",
       "        text-align: right;\n",
       "    }\n",
       "</style>\n",
       "<table border=\"1\" class=\"dataframe\">\n",
       "  <thead>\n",
       "    <tr style=\"text-align: right;\">\n",
       "      <th></th>\n",
       "      <th>Brands</th>\n",
       "      <th>Price</th>\n",
       "      <th>Product Description</th>\n",
       "    </tr>\n",
       "  </thead>\n",
       "  <tbody>\n",
       "    <tr>\n",
       "      <th>0</th>\n",
       "      <td>john jacobs</td>\n",
       "      <td>₹2,399₹6,00060% off</td>\n",
       "      <td>UV Protection Round Sunglasses (51)</td>\n",
       "    </tr>\n",
       "    <tr>\n",
       "      <th>1</th>\n",
       "      <td>ROYAL SON</td>\n",
       "      <td>₹339₹1,49977% off</td>\n",
       "      <td>₹2,399₹6,00060% off</td>\n",
       "    </tr>\n",
       "    <tr>\n",
       "      <th>2</th>\n",
       "      <td>Fastrack</td>\n",
       "      <td>₹709₹1,09935% off</td>\n",
       "      <td>Mirrored Aviator Sunglasses (58)</td>\n",
       "    </tr>\n",
       "    <tr>\n",
       "      <th>3</th>\n",
       "      <td>ROADWAY</td>\n",
       "      <td>₹199₹99980% off</td>\n",
       "      <td>₹339₹1,49977% off</td>\n",
       "    </tr>\n",
       "    <tr>\n",
       "      <th>4</th>\n",
       "      <td>Elligator</td>\n",
       "      <td>₹149₹59975% off</td>\n",
       "      <td>UV Protection Wayfarer Sunglasses (58)</td>\n",
       "    </tr>\n",
       "    <tr>\n",
       "      <th>...</th>\n",
       "      <td>...</td>\n",
       "      <td>...</td>\n",
       "      <td>...</td>\n",
       "    </tr>\n",
       "    <tr>\n",
       "      <th>95</th>\n",
       "      <td>PIRASO</td>\n",
       "      <td>₹269₹2,59989% off</td>\n",
       "      <td>₹2,999₹9,99970% off</td>\n",
       "    </tr>\n",
       "    <tr>\n",
       "      <th>96</th>\n",
       "      <td>Ann Taylor</td>\n",
       "      <td>₹2,999₹9,99970% off</td>\n",
       "      <td>by Lenskart Polarized, UV Protection Retro Squ...</td>\n",
       "    </tr>\n",
       "    <tr>\n",
       "      <th>97</th>\n",
       "      <td>IRUS</td>\n",
       "      <td>₹499₹89043% off</td>\n",
       "      <td>₹854₹1,99957% off</td>\n",
       "    </tr>\n",
       "    <tr>\n",
       "      <th>98</th>\n",
       "      <td>Resist</td>\n",
       "      <td>₹1,250₹3,99968% off</td>\n",
       "      <td>UV Protection Wayfarer Sunglasses (56)</td>\n",
       "    </tr>\n",
       "    <tr>\n",
       "      <th>99</th>\n",
       "      <td>Fastrack</td>\n",
       "      <td>₹749₹99925% off</td>\n",
       "      <td>₹649₹99935% off</td>\n",
       "    </tr>\n",
       "  </tbody>\n",
       "</table>\n",
       "<p>100 rows × 3 columns</p>\n",
       "</div>"
      ],
      "text/plain": [
       "         Brands                Price  \\\n",
       "0   john jacobs  ₹2,399₹6,00060% off   \n",
       "1     ROYAL SON    ₹339₹1,49977% off   \n",
       "2      Fastrack    ₹709₹1,09935% off   \n",
       "3       ROADWAY      ₹199₹99980% off   \n",
       "4     Elligator      ₹149₹59975% off   \n",
       "..          ...                  ...   \n",
       "95       PIRASO    ₹269₹2,59989% off   \n",
       "96   Ann Taylor  ₹2,999₹9,99970% off   \n",
       "97         IRUS      ₹499₹89043% off   \n",
       "98       Resist  ₹1,250₹3,99968% off   \n",
       "99     Fastrack      ₹749₹99925% off   \n",
       "\n",
       "                                  Product Description  \n",
       "0                 UV Protection Round Sunglasses (51)  \n",
       "1                                 ₹2,399₹6,00060% off  \n",
       "2                    Mirrored Aviator Sunglasses (58)  \n",
       "3                                   ₹339₹1,49977% off  \n",
       "4              UV Protection Wayfarer Sunglasses (58)  \n",
       "..                                                ...  \n",
       "95                                ₹2,999₹9,99970% off  \n",
       "96  by Lenskart Polarized, UV Protection Retro Squ...  \n",
       "97                                  ₹854₹1,99957% off  \n",
       "98             UV Protection Wayfarer Sunglasses (56)  \n",
       "99                                    ₹649₹99935% off  \n",
       "\n",
       "[100 rows x 3 columns]"
      ]
     },
     "execution_count": 219,
     "metadata": {},
     "output_type": "execute_result"
    }
   ],
   "source": [
    "import pandas as pd\n",
    "df=pd.DataFrame({'Brands':Brand,'Price':Price,'Product Description':Product_description})\n",
    "df"
   ]
  },
  {
   "cell_type": "code",
   "execution_count": 71,
   "id": "678e45b7",
   "metadata": {},
   "outputs": [],
   "source": [
    "##Q5:"
   ]
  },
  {
   "cell_type": "code",
   "execution_count": 377,
   "id": "aba411d5",
   "metadata": {},
   "outputs": [],
   "source": [
    "driver = webdriver.Chrome()"
   ]
  },
  {
   "cell_type": "code",
   "execution_count": 378,
   "id": "7f000572",
   "metadata": {},
   "outputs": [],
   "source": [
    "driver.get(\"https://www.flipkart.com/apple-iphone-11-black-64-gb/p/itm4e5041ba101fd?pid=MOBFWQ6BXGJCEYNY&lid=LSTMOBFWQ6BXGJCEYNYZE3ENS&marketplace=FLIPKART&q=iphone+11&store=tyy%2F4io&srno=s_1_1&otracker=search&otracker1=search&fm=organic&iid=b6724eca-a46c-40e8-b1fd-e1dd1a3c06b2.MOBFWQ6BXGJCEYNY.SEARCH&ppt=hp&ppn=homepage&ssid=0tccobesy80000001701874098289&qH=f6cdfdaa9f3c23f3\")"
   ]
  },
  {
   "cell_type": "code",
   "execution_count": 379,
   "id": "555ae307",
   "metadata": {},
   "outputs": [],
   "source": [
    "Review = []\n",
    "Rating = []\n",
    "Full_Review=[]"
   ]
  },
  {
   "cell_type": "code",
   "execution_count": 380,
   "id": "7d7b70aa",
   "metadata": {},
   "outputs": [],
   "source": [
    "review_tag = driver.find_elements(By.CLASS_NAME,\"_2-N8zT\")\n",
    "for i in review_tag:\n",
    "    review=i.text\n",
    "    Review.append(review)"
   ]
  },
  {
   "cell_type": "code",
   "execution_count": 383,
   "id": "fb7ef9b0",
   "metadata": {},
   "outputs": [],
   "source": [
    "rating_tag = driver.find_elements(By.XPATH,'//div[@class=\"_3LWZlK _1BLPMq\"]')\n",
    "for i in rating_tag:\n",
    "    rating=i.text\n",
    "    Rating.append(rating)"
   ]
  },
  {
   "cell_type": "code",
   "execution_count": 386,
   "id": "fb8f61e0",
   "metadata": {},
   "outputs": [],
   "source": [
    "Full_review_tag = driver.find_elements(By.CLASS_NAME,\"t-ZTKy\")\n",
    "for i in Full_review_tag:\n",
    "    Full_review=i.text\n",
    "    Full_Review.append(Full_review)"
   ]
  },
  {
   "cell_type": "code",
   "execution_count": 388,
   "id": "1f210e74",
   "metadata": {},
   "outputs": [],
   "source": [
    "sclick = driver.find_element(By.CLASS_NAME,\"_1LKTO3\")\n",
    "sclick.click()"
   ]
  },
  {
   "cell_type": "code",
   "execution_count": 389,
   "id": "c81958cf",
   "metadata": {},
   "outputs": [],
   "source": [
    "review_tag = driver.find_elements(By.XPATH,'//p[@class=\"_2-N8zT\"]')\n",
    "for i in review_tag:\n",
    "    review=i.text\n",
    "    Review.append(review)"
   ]
  },
  {
   "cell_type": "code",
   "execution_count": 392,
   "id": "47a0b105",
   "metadata": {},
   "outputs": [],
   "source": [
    "rating_tag = driver.find_elements(By.XPATH,'//div[@class=\"_3LWZlK _1BLPMq\"]')\n",
    "for i in rating_tag:\n",
    "    rating=i.text\n",
    "    Rating.append(rating)"
   ]
  },
  {
   "cell_type": "code",
   "execution_count": 395,
   "id": "63d3d20f",
   "metadata": {},
   "outputs": [],
   "source": [
    "Full_review_tag = driver.find_elements(By.CLASS_NAME,\"t-ZTKy\")\n",
    "for i in Full_review_tag:\n",
    "    Full_review=i.text\n",
    "    Full_Review.append(Full_review)"
   ]
  },
  {
   "cell_type": "code",
   "execution_count": 397,
   "id": "47048c23",
   "metadata": {},
   "outputs": [],
   "source": [
    "sclick = driver.find_element(By.XPATH,'/html/body/div[1]/div/div[3]/div/div/div[2]/div[13]/div/div/nav/a[12]/span')\n",
    "sclick.click()"
   ]
  },
  {
   "cell_type": "code",
   "execution_count": 398,
   "id": "f29fac7a",
   "metadata": {},
   "outputs": [],
   "source": [
    "review_tag = driver.find_elements(By.XPATH,'//p[@class=\"_2-N8zT\"]')\n",
    "for i in review_tag:\n",
    "    review=i.text\n",
    "    Review.append(review)\n",
    "    \n",
    "rating_tag = driver.find_elements(By.XPATH,'//div[@class=\"_3LWZlK _1BLPMq\"]')\n",
    "for i in rating_tag:\n",
    "    rating=i.text\n",
    "    Rating.append(rating)\n",
    "\n",
    "Full_review_tag = driver.find_elements(By.CLASS_NAME,\"t-ZTKy\")\n",
    "for i in Full_review_tag:\n",
    "    Full_review=i.text\n",
    "    Full_Review.append(Full_review)"
   ]
  },
  {
   "cell_type": "code",
   "execution_count": 403,
   "id": "845d2fec",
   "metadata": {},
   "outputs": [],
   "source": [
    "sclick = driver.find_element(By.XPATH,'/html/body/div[1]/div/div[3]/div/div/div[2]/div[13]/div/div/nav/a[12]/span')\n",
    "sclick.click()"
   ]
  },
  {
   "cell_type": "code",
   "execution_count": 404,
   "id": "02196401",
   "metadata": {},
   "outputs": [],
   "source": [
    "review_tag = driver.find_elements(By.XPATH,'//p[@class=\"_2-N8zT\"]')\n",
    "for i in review_tag:\n",
    "    review=i.text\n",
    "    Review.append(review)\n",
    "    \n",
    "rating_tag = driver.find_elements(By.XPATH,'//div[@class=\"_3LWZlK _1BLPMq\"]')\n",
    "for i in rating_tag:\n",
    "    rating=i.text\n",
    "    Rating.append(rating)\n",
    "\n",
    "Full_review_tag = driver.find_elements(By.CLASS_NAME,\"t-ZTKy\")\n",
    "for i in Full_review_tag:\n",
    "    Full_review=i.text\n",
    "    Full_Review.append(Full_review)"
   ]
  },
  {
   "cell_type": "code",
   "execution_count": 406,
   "id": "9a091527",
   "metadata": {},
   "outputs": [],
   "source": [
    "sclick = driver.find_element(By.XPATH,'/html/body/div[1]/div/div[3]/div/div/div[2]/div[13]/div/div/nav/a[12]/span')\n",
    "sclick.click()"
   ]
  },
  {
   "cell_type": "code",
   "execution_count": 407,
   "id": "efe4dc8e",
   "metadata": {},
   "outputs": [],
   "source": [
    "review_tag = driver.find_elements(By.XPATH,'//p[@class=\"_2-N8zT\"]')\n",
    "for i in review_tag:\n",
    "    review=i.text\n",
    "    Review.append(review)\n",
    "    \n",
    "rating_tag = driver.find_elements(By.XPATH,'//div[@class=\"_3LWZlK _1BLPMq\"]')\n",
    "for i in rating_tag:\n",
    "    rating=i.text\n",
    "    Rating.append(rating)\n",
    "\n",
    "Full_review_tag = driver.find_elements(By.CLASS_NAME,\"t-ZTKy\")\n",
    "for i in Full_review_tag:\n",
    "    Full_review=i.text\n",
    "    Full_Review.append(Full_review)"
   ]
  },
  {
   "cell_type": "code",
   "execution_count": 409,
   "id": "0506a3ff",
   "metadata": {},
   "outputs": [],
   "source": [
    "sclick = driver.find_element(By.XPATH,'/html/body/div[1]/div/div[3]/div/div/div[2]/div[13]/div/div/nav/a[12]/span')\n",
    "sclick.click()"
   ]
  },
  {
   "cell_type": "code",
   "execution_count": 410,
   "id": "d3677e42",
   "metadata": {},
   "outputs": [],
   "source": [
    "review_tag = driver.find_elements(By.XPATH,'//p[@class=\"_2-N8zT\"]')\n",
    "for i in review_tag:\n",
    "    review=i.text\n",
    "    Review.append(review)\n",
    "    \n",
    "rating_tag = driver.find_elements(By.XPATH,'//div[@class=\"_3LWZlK _1BLPMq\"]')\n",
    "for i in rating_tag:\n",
    "    rating=i.text\n",
    "    Rating.append(rating)\n",
    "\n",
    "Full_review_tag = driver.find_elements(By.CLASS_NAME,\"t-ZTKy\")\n",
    "for i in Full_review_tag:\n",
    "    Full_review=i.text\n",
    "    Full_Review.append(Full_review)"
   ]
  },
  {
   "cell_type": "code",
   "execution_count": 412,
   "id": "1758c23e",
   "metadata": {},
   "outputs": [],
   "source": [
    "sclick = driver.find_element(By.XPATH,'/html/body/div[1]/div/div[3]/div/div/div[2]/div[13]/div/div/nav/a[12]/span')\n",
    "sclick.click()"
   ]
  },
  {
   "cell_type": "code",
   "execution_count": 413,
   "id": "46058350",
   "metadata": {},
   "outputs": [],
   "source": [
    "review_tag = driver.find_elements(By.XPATH,'//p[@class=\"_2-N8zT\"]')\n",
    "for i in review_tag:\n",
    "    review=i.text\n",
    "    Review.append(review)\n",
    "    \n",
    "rating_tag = driver.find_elements(By.XPATH,'//div[@class=\"_3LWZlK _1BLPMq\"]')\n",
    "for i in rating_tag:\n",
    "    rating=i.text\n",
    "    Rating.append(rating)\n",
    "\n",
    "Full_review_tag = driver.find_elements(By.CLASS_NAME,\"t-ZTKy\")\n",
    "for i in Full_review_tag:\n",
    "    Full_review=i.text\n",
    "    Full_Review.append(Full_review)"
   ]
  },
  {
   "cell_type": "code",
   "execution_count": 415,
   "id": "93e6c66b",
   "metadata": {},
   "outputs": [],
   "source": [
    "sclick = driver.find_element(By.XPATH,'/html/body/div[1]/div/div[3]/div/div/div[2]/div[13]/div/div/nav/a[12]/span')\n",
    "sclick.click()"
   ]
  },
  {
   "cell_type": "code",
   "execution_count": 416,
   "id": "96b96fc7",
   "metadata": {},
   "outputs": [],
   "source": [
    "review_tag = driver.find_elements(By.XPATH,'//p[@class=\"_2-N8zT\"]')\n",
    "for i in review_tag:\n",
    "    review=i.text\n",
    "    Review.append(review)\n",
    "    \n",
    "rating_tag = driver.find_elements(By.XPATH,'//div[@class=\"_3LWZlK _1BLPMq\"]')\n",
    "for i in rating_tag:\n",
    "    rating=i.text\n",
    "    Rating.append(rating)\n",
    "\n",
    "Full_review_tag = driver.find_elements(By.CLASS_NAME,\"t-ZTKy\")\n",
    "for i in Full_review_tag:\n",
    "    Full_review=i.text\n",
    "    Full_Review.append(Full_review)"
   ]
  },
  {
   "cell_type": "code",
   "execution_count": 418,
   "id": "72ac79e1",
   "metadata": {},
   "outputs": [],
   "source": [
    "sclick = driver.find_element(By.XPATH,'/html/body/div[1]/div/div[3]/div/div/div[2]/div[13]/div/div/nav/a[12]/span')\n",
    "sclick.click()"
   ]
  },
  {
   "cell_type": "code",
   "execution_count": 419,
   "id": "b561e699",
   "metadata": {},
   "outputs": [],
   "source": [
    "review_tag = driver.find_elements(By.XPATH,'//p[@class=\"_2-N8zT\"]')\n",
    "for i in review_tag:\n",
    "    review=i.text\n",
    "    Review.append(review)\n",
    "    \n",
    "rating_tag = driver.find_elements(By.XPATH,'//div[@class=\"_3LWZlK _1BLPMq\"]')\n",
    "for i in rating_tag:\n",
    "    rating=i.text\n",
    "    Rating.append(rating)\n",
    "\n",
    "Full_review_tag = driver.find_elements(By.CLASS_NAME,\"t-ZTKy\")\n",
    "for i in Full_review_tag:\n",
    "    Full_review=i.text\n",
    "    Full_Review.append(Full_review)"
   ]
  },
  {
   "cell_type": "code",
   "execution_count": 420,
   "id": "751c4797",
   "metadata": {},
   "outputs": [
    {
     "name": "stdout",
     "output_type": "stream",
     "text": [
      "100 (100, 100)\n"
     ]
    }
   ],
   "source": [
    "print(len(Rating),(len(Review),(len(Full_Review))))"
   ]
  },
  {
   "cell_type": "code",
   "execution_count": 421,
   "id": "ed081770",
   "metadata": {},
   "outputs": [
    {
     "data": {
      "text/html": [
       "<div>\n",
       "<style scoped>\n",
       "    .dataframe tbody tr th:only-of-type {\n",
       "        vertical-align: middle;\n",
       "    }\n",
       "\n",
       "    .dataframe tbody tr th {\n",
       "        vertical-align: top;\n",
       "    }\n",
       "\n",
       "    .dataframe thead th {\n",
       "        text-align: right;\n",
       "    }\n",
       "</style>\n",
       "<table border=\"1\" class=\"dataframe\">\n",
       "  <thead>\n",
       "    <tr style=\"text-align: right;\">\n",
       "      <th></th>\n",
       "      <th>Review</th>\n",
       "      <th>Rating</th>\n",
       "      <th>Full Review</th>\n",
       "    </tr>\n",
       "  </thead>\n",
       "  <tbody>\n",
       "    <tr>\n",
       "      <th>0</th>\n",
       "      <td>Perfect product!</td>\n",
       "      <td>5</td>\n",
       "      <td>Photos super</td>\n",
       "    </tr>\n",
       "    <tr>\n",
       "      <th>1</th>\n",
       "      <td>Classy product</td>\n",
       "      <td>5</td>\n",
       "      <td>Camera is awesome\\nBest battery backup\\nA perf...</td>\n",
       "    </tr>\n",
       "    <tr>\n",
       "      <th>2</th>\n",
       "      <td>Best in the market!</td>\n",
       "      <td>5</td>\n",
       "      <td>Good Camera</td>\n",
       "    </tr>\n",
       "    <tr>\n",
       "      <th>3</th>\n",
       "      <td>Worth every penny</td>\n",
       "      <td>5</td>\n",
       "      <td>Feeling awesome after getting the delivery of ...</td>\n",
       "    </tr>\n",
       "    <tr>\n",
       "      <th>4</th>\n",
       "      <td>Wonderful</td>\n",
       "      <td>5</td>\n",
       "      <td>This is amazing at all</td>\n",
       "    </tr>\n",
       "    <tr>\n",
       "      <th>...</th>\n",
       "      <td>...</td>\n",
       "      <td>...</td>\n",
       "      <td>...</td>\n",
       "    </tr>\n",
       "    <tr>\n",
       "      <th>95</th>\n",
       "      <td>Great product</td>\n",
       "      <td>5</td>\n",
       "      <td>I was using android phone earlier..I was think...</td>\n",
       "    </tr>\n",
       "    <tr>\n",
       "      <th>96</th>\n",
       "      <td>Must buy!</td>\n",
       "      <td>5</td>\n",
       "      <td>I rate this product 5* as it has got amazing u...</td>\n",
       "    </tr>\n",
       "    <tr>\n",
       "      <th>97</th>\n",
       "      <td>Best in the market!</td>\n",
       "      <td>5</td>\n",
       "      <td>Finally got it 😙</td>\n",
       "    </tr>\n",
       "    <tr>\n",
       "      <th>98</th>\n",
       "      <td>Best in the market!</td>\n",
       "      <td>5</td>\n",
       "      <td>Really very nice... my dad gifted me really I ...</td>\n",
       "    </tr>\n",
       "    <tr>\n",
       "      <th>99</th>\n",
       "      <td>Great product</td>\n",
       "      <td>5</td>\n",
       "      <td>Awesome phone, great display(may not be a OLED...</td>\n",
       "    </tr>\n",
       "  </tbody>\n",
       "</table>\n",
       "<p>100 rows × 3 columns</p>\n",
       "</div>"
      ],
      "text/plain": [
       "                 Review Rating  \\\n",
       "0      Perfect product!      5   \n",
       "1        Classy product      5   \n",
       "2   Best in the market!      5   \n",
       "3     Worth every penny      5   \n",
       "4             Wonderful      5   \n",
       "..                  ...    ...   \n",
       "95        Great product      5   \n",
       "96            Must buy!      5   \n",
       "97  Best in the market!      5   \n",
       "98  Best in the market!      5   \n",
       "99        Great product      5   \n",
       "\n",
       "                                          Full Review  \n",
       "0                                        Photos super  \n",
       "1   Camera is awesome\\nBest battery backup\\nA perf...  \n",
       "2                                         Good Camera  \n",
       "3   Feeling awesome after getting the delivery of ...  \n",
       "4                              This is amazing at all  \n",
       "..                                                ...  \n",
       "95  I was using android phone earlier..I was think...  \n",
       "96  I rate this product 5* as it has got amazing u...  \n",
       "97                                   Finally got it 😙  \n",
       "98  Really very nice... my dad gifted me really I ...  \n",
       "99  Awesome phone, great display(may not be a OLED...  \n",
       "\n",
       "[100 rows x 3 columns]"
      ]
     },
     "execution_count": 421,
     "metadata": {},
     "output_type": "execute_result"
    }
   ],
   "source": [
    "import pandas as pd\n",
    "df = pd.DataFrame({'Review':Review,'Rating':Rating,'Full Review':Full_Review})\n",
    "df"
   ]
  },
  {
   "cell_type": "code",
   "execution_count": 422,
   "id": "59fff98d",
   "metadata": {},
   "outputs": [],
   "source": [
    "##Q6"
   ]
  },
  {
   "cell_type": "code",
   "execution_count": 3,
   "id": "f0ec5c62",
   "metadata": {},
   "outputs": [],
   "source": [
    "driver = webdriver.Chrome()"
   ]
  },
  {
   "cell_type": "code",
   "execution_count": 4,
   "id": "dd9db1ae",
   "metadata": {},
   "outputs": [],
   "source": [
    "driver.get('https://www.flipkart.com/')"
   ]
  },
  {
   "cell_type": "code",
   "execution_count": 5,
   "id": "08aab11f",
   "metadata": {},
   "outputs": [],
   "source": [
    "search = driver.find_element(By.CLASS_NAME,\"_3704LK\")\n",
    "search.send_keys('sneakers')\n"
   ]
  },
  {
   "cell_type": "code",
   "execution_count": 6,
   "id": "665588de",
   "metadata": {},
   "outputs": [],
   "source": [
    "sclick = driver.find_element(By.CLASS_NAME,\"_34RNph\")\n",
    "sclick.click()"
   ]
  },
  {
   "cell_type": "code",
   "execution_count": 8,
   "id": "e9d5ed8d",
   "metadata": {},
   "outputs": [],
   "source": [
    "Brand = []\n",
    "Product_Description = []\n",
    "Price = []"
   ]
  },
  {
   "cell_type": "code",
   "execution_count": 9,
   "id": "538d5761",
   "metadata": {},
   "outputs": [],
   "source": [
    "Brand_tag = driver.find_elements(By.CLASS_NAME,\"_2WkVRV\")\n",
    "for i in Brand_tag:\n",
    "    brandd = i.text\n",
    "    Brand.append(brandd)"
   ]
  },
  {
   "cell_type": "code",
   "execution_count": 12,
   "id": "2c2208ec",
   "metadata": {},
   "outputs": [],
   "source": [
    "price_tag = driver.find_elements(By.XPATH,'//a[@class=\"_3bPFwb\"]/div')\n",
    "for i in price_tag:\n",
    "    price=i.text\n",
    "    Price.append(price)"
   ]
  },
  {
   "cell_type": "code",
   "execution_count": 15,
   "id": "1daedb15",
   "metadata": {},
   "outputs": [],
   "source": [
    "pd_tag = driver.find_elements(By.XPATH,'//div[@class=\"_2B099V\"]/a')[:40]\n",
    "for i in pd_tag:\n",
    "    pd=i.text\n",
    "    Product_Description.append(pd)"
   ]
  },
  {
   "cell_type": "code",
   "execution_count": 18,
   "id": "72613ae7",
   "metadata": {},
   "outputs": [],
   "source": [
    "nclick = driver.find_element(By.CLASS_NAME,\"_1LKTO3\")\n",
    "nclick.click()"
   ]
  },
  {
   "cell_type": "code",
   "execution_count": 19,
   "id": "563e7a61",
   "metadata": {},
   "outputs": [],
   "source": [
    "Brand_tag = driver.find_elements(By.CLASS_NAME,\"_2WkVRV\")\n",
    "for i in Brand_tag:\n",
    "    brandd = i.text\n",
    "    Brand.append(brandd)\n",
    "    \n",
    "price_tag = driver.find_elements(By.XPATH,'//a[@class=\"_3bPFwb\"]/div')\n",
    "for i in price_tag:\n",
    "    price=i.text\n",
    "    Price.append(price)\n",
    "    \n",
    "pd_tag = driver.find_elements(By.XPATH,'//div[@class=\"_2B099V\"]/a')[:40]\n",
    "for i in pd_tag:\n",
    "    pd=i.text\n",
    "    Product_Description.append(pd)"
   ]
  },
  {
   "cell_type": "code",
   "execution_count": 21,
   "id": "c04d50c1",
   "metadata": {},
   "outputs": [],
   "source": [
    "nclick = driver.find_element(By.XPATH,'/html/body/div/div/div[3]/div[1]/div[2]/div[12]/div/div/nav/a[12]')\n",
    "nclick.click()"
   ]
  },
  {
   "cell_type": "code",
   "execution_count": 22,
   "id": "ca54c298",
   "metadata": {},
   "outputs": [],
   "source": [
    "Brand_tag = driver.find_elements(By.CLASS_NAME,\"_2WkVRV\")[:20]\n",
    "for i in Brand_tag:\n",
    "    brandd = i.text\n",
    "    Brand.append(brandd)\n",
    "    \n",
    "price_tag = driver.find_elements(By.XPATH,'//a[@class=\"_3bPFwb\"]/div')[:20]\n",
    "for i in price_tag:\n",
    "    price=i.text\n",
    "    Price.append(price)\n",
    "    \n",
    "pd_tag = driver.find_elements(By.XPATH,'//div[@class=\"_2B099V\"]/a')[:20]\n",
    "for i in pd_tag:\n",
    "    pd=i.text\n",
    "    Product_Description.append(pd)"
   ]
  },
  {
   "cell_type": "code",
   "execution_count": 23,
   "id": "df88ed93",
   "metadata": {},
   "outputs": [
    {
     "data": {
      "text/html": [
       "<div>\n",
       "<style scoped>\n",
       "    .dataframe tbody tr th:only-of-type {\n",
       "        vertical-align: middle;\n",
       "    }\n",
       "\n",
       "    .dataframe tbody tr th {\n",
       "        vertical-align: top;\n",
       "    }\n",
       "\n",
       "    .dataframe thead th {\n",
       "        text-align: right;\n",
       "    }\n",
       "</style>\n",
       "<table border=\"1\" class=\"dataframe\">\n",
       "  <thead>\n",
       "    <tr style=\"text-align: right;\">\n",
       "      <th></th>\n",
       "      <th>Brand</th>\n",
       "      <th>Price</th>\n",
       "      <th>Product Description</th>\n",
       "    </tr>\n",
       "  </thead>\n",
       "  <tbody>\n",
       "    <tr>\n",
       "      <th>0</th>\n",
       "      <td>Layasa</td>\n",
       "      <td>₹435₹99956% off</td>\n",
       "      <td>Sneakers For Men Sneakers For Men</td>\n",
       "    </tr>\n",
       "    <tr>\n",
       "      <th>1</th>\n",
       "      <td>Layasa</td>\n",
       "      <td>₹435₹99956% off</td>\n",
       "      <td>₹399₹99960% off</td>\n",
       "    </tr>\n",
       "    <tr>\n",
       "      <th>2</th>\n",
       "      <td>Layasa</td>\n",
       "      <td>₹435₹99956% off</td>\n",
       "      <td>Megpar White New Stylish Look Comfortable Casu...</td>\n",
       "    </tr>\n",
       "    <tr>\n",
       "      <th>3</th>\n",
       "      <td>Layasa</td>\n",
       "      <td>₹435₹99956% off</td>\n",
       "      <td>₹475₹1,99976% off</td>\n",
       "    </tr>\n",
       "    <tr>\n",
       "      <th>4</th>\n",
       "      <td>Layasa</td>\n",
       "      <td>₹435₹99956% off</td>\n",
       "      <td>Sneakers For Women</td>\n",
       "    </tr>\n",
       "    <tr>\n",
       "      <th>...</th>\n",
       "      <td>...</td>\n",
       "      <td>...</td>\n",
       "      <td>...</td>\n",
       "    </tr>\n",
       "    <tr>\n",
       "      <th>95</th>\n",
       "      <td>Layasa</td>\n",
       "      <td>₹435₹99956% off</td>\n",
       "      <td>₹699₹89922% off</td>\n",
       "    </tr>\n",
       "    <tr>\n",
       "      <th>96</th>\n",
       "      <td>Layasa</td>\n",
       "      <td>₹435₹99956% off</td>\n",
       "      <td>Stylish &amp; Trendy Sneakers For Men</td>\n",
       "    </tr>\n",
       "    <tr>\n",
       "      <th>97</th>\n",
       "      <td>Layasa</td>\n",
       "      <td>₹435₹99956% off</td>\n",
       "      <td>₹539₹99946% off</td>\n",
       "    </tr>\n",
       "    <tr>\n",
       "      <th>98</th>\n",
       "      <td>Layasa</td>\n",
       "      <td>₹435₹99956% off</td>\n",
       "      <td>Onehill Sneakers For Men</td>\n",
       "    </tr>\n",
       "    <tr>\n",
       "      <th>99</th>\n",
       "      <td>Layasa</td>\n",
       "      <td>₹435₹99956% off</td>\n",
       "      <td>₹1,977₹4,29954% off</td>\n",
       "    </tr>\n",
       "  </tbody>\n",
       "</table>\n",
       "<p>100 rows × 3 columns</p>\n",
       "</div>"
      ],
      "text/plain": [
       "     Brand            Price                                Product Description\n",
       "0   Layasa  ₹435₹99956% off                  Sneakers For Men Sneakers For Men\n",
       "1   Layasa  ₹435₹99956% off                                    ₹399₹99960% off\n",
       "2   Layasa  ₹435₹99956% off  Megpar White New Stylish Look Comfortable Casu...\n",
       "3   Layasa  ₹435₹99956% off                                  ₹475₹1,99976% off\n",
       "4   Layasa  ₹435₹99956% off                                 Sneakers For Women\n",
       "..     ...              ...                                                ...\n",
       "95  Layasa  ₹435₹99956% off                                    ₹699₹89922% off\n",
       "96  Layasa  ₹435₹99956% off                  Stylish & Trendy Sneakers For Men\n",
       "97  Layasa  ₹435₹99956% off                                    ₹539₹99946% off\n",
       "98  Layasa  ₹435₹99956% off                           Onehill Sneakers For Men\n",
       "99  Layasa  ₹435₹99956% off                                ₹1,977₹4,29954% off\n",
       "\n",
       "[100 rows x 3 columns]"
      ]
     },
     "execution_count": 23,
     "metadata": {},
     "output_type": "execute_result"
    }
   ],
   "source": [
    "import pandas as pd\n",
    "df = pd.DataFrame({'Brand':brandd,'Price':price,'Product Description':Product_Description})\n",
    "df"
   ]
  },
  {
   "cell_type": "code",
   "execution_count": 24,
   "id": "98423872",
   "metadata": {},
   "outputs": [],
   "source": [
    "##Q7"
   ]
  },
  {
   "cell_type": "code",
   "execution_count": 148,
   "id": "87775a47",
   "metadata": {},
   "outputs": [],
   "source": [
    "driver = webdriver.Chrome()\n",
    "driver.get(\"https://www.amazon.in/\")"
   ]
  },
  {
   "cell_type": "code",
   "execution_count": 149,
   "id": "73ec3151",
   "metadata": {},
   "outputs": [],
   "source": [
    "search = driver.find_element(By.XPATH,'/html/body/div[1]/header/div/div[1]/div[2]/div/form/div[2]/div[1]/input')\n",
    "search.send_keys('Laptop')"
   ]
  },
  {
   "cell_type": "code",
   "execution_count": 150,
   "id": "57d35fe6",
   "metadata": {},
   "outputs": [],
   "source": [
    "sclick = driver.find_element(By.XPATH,'/html/body/div[1]/header/div/div[1]/div[2]/div/form/div[3]/div/span/input')\n",
    "sclick.click()"
   ]
  },
  {
   "cell_type": "code",
   "execution_count": 152,
   "id": "dd358d27",
   "metadata": {},
   "outputs": [],
   "source": [
    "sclick = driver.find_element(By.XPATH,'/html/body/div[1]/div[1]/div[1]/div[2]/div/div[3]/span/div[1]/div/div/div[5]/ul[6]/span[12]/li/span/a/div/label/i')\n",
    "sclick.click()"
   ]
  },
  {
   "cell_type": "code",
   "execution_count": 163,
   "id": "7638386c",
   "metadata": {},
   "outputs": [],
   "source": [
    "Title = []\n",
    "Ratings = []\n",
    "Price = []"
   ]
  },
  {
   "cell_type": "code",
   "execution_count": 174,
   "id": "e027d829",
   "metadata": {},
   "outputs": [],
   "source": [
    "title_tag = driver.find_elements(By.XPATH,'//span[@class=\"a-size-medium a-color-base a-text-normal\"]')[:10]\n",
    "for i in title_tag:\n",
    "    title = i.text\n",
    "    Title.append(title)"
   ]
  },
  {
   "cell_type": "code",
   "execution_count": 175,
   "id": "24d12123",
   "metadata": {},
   "outputs": [],
   "source": [
    "rating_tag = driver.find_elements(By.XPATH,'//i[@class=\"a-icon a-icon-star-small a-star-small-4 aok-align-bottom\"]')[:10]\n",
    "for i in rating_tag:\n",
    "    rating = i.text\n",
    "    Ratings.append(rating)"
   ]
  },
  {
   "cell_type": "code",
   "execution_count": 176,
   "id": "9f2d0339",
   "metadata": {},
   "outputs": [],
   "source": [
    "Price_tag = driver.find_elements(By.XPATH,'//span[@class=\"a-price-whole\"]')[:10]\n",
    "for i in Price_tag:\n",
    "    price = i.text\n",
    "    Price.append(price)"
   ]
  },
  {
   "cell_type": "code",
   "execution_count": 177,
   "id": "beb9acac",
   "metadata": {},
   "outputs": [
    {
     "data": {
      "text/html": [
       "<div>\n",
       "<style scoped>\n",
       "    .dataframe tbody tr th:only-of-type {\n",
       "        vertical-align: middle;\n",
       "    }\n",
       "\n",
       "    .dataframe tbody tr th {\n",
       "        vertical-align: top;\n",
       "    }\n",
       "\n",
       "    .dataframe thead th {\n",
       "        text-align: right;\n",
       "    }\n",
       "</style>\n",
       "<table border=\"1\" class=\"dataframe\">\n",
       "  <thead>\n",
       "    <tr style=\"text-align: right;\">\n",
       "      <th></th>\n",
       "      <th>Titles</th>\n",
       "      <th>Price</th>\n",
       "      <th>Ratings</th>\n",
       "    </tr>\n",
       "  </thead>\n",
       "  <tbody>\n",
       "    <tr>\n",
       "      <th>0</th>\n",
       "      <td>MSI Modern 14, Intel 12th Gen. i7-1255U, 36CM ...</td>\n",
       "      <td>49,990</td>\n",
       "      <td></td>\n",
       "    </tr>\n",
       "    <tr>\n",
       "      <th>1</th>\n",
       "      <td>ASUS TUF Gaming F15, 15.6\"(39.62 cms) FHD 144H...</td>\n",
       "      <td>75,990</td>\n",
       "      <td></td>\n",
       "    </tr>\n",
       "    <tr>\n",
       "      <th>2</th>\n",
       "      <td>Samsung Galaxy Book3 Core i7 13th Gen 1355U - ...</td>\n",
       "      <td>89,990</td>\n",
       "      <td></td>\n",
       "    </tr>\n",
       "    <tr>\n",
       "      <th>3</th>\n",
       "      <td>Acer Predator Helios Neo 16 Gaming Laptop 13th...</td>\n",
       "      <td>1,29,900</td>\n",
       "      <td></td>\n",
       "    </tr>\n",
       "    <tr>\n",
       "      <th>4</th>\n",
       "      <td>HP Pavilion X360 11th Gen Intel Core i7 14\" (3...</td>\n",
       "      <td>85,990</td>\n",
       "      <td></td>\n",
       "    </tr>\n",
       "    <tr>\n",
       "      <th>5</th>\n",
       "      <td>Acer Aspire Lite 11th Gen Intel Core i7-1165G7...</td>\n",
       "      <td>50,500</td>\n",
       "      <td></td>\n",
       "    </tr>\n",
       "    <tr>\n",
       "      <th>6</th>\n",
       "      <td>HP Victus Gaming Laptop, 12th Gen Intel Core i...</td>\n",
       "      <td>86,490</td>\n",
       "      <td></td>\n",
       "    </tr>\n",
       "    <tr>\n",
       "      <th>7</th>\n",
       "      <td>HP Pavilion 14 11th Gen Intel Core i7 16GB/1TB...</td>\n",
       "      <td>89,999</td>\n",
       "      <td></td>\n",
       "    </tr>\n",
       "    <tr>\n",
       "      <th>8</th>\n",
       "      <td>(Refurbished) Acer Aspire Lite Premium Metal L...</td>\n",
       "      <td>42,491</td>\n",
       "      <td></td>\n",
       "    </tr>\n",
       "    <tr>\n",
       "      <th>9</th>\n",
       "      <td>MSI Modern 14, Intel 12th Gen. i7-1255U, 36CM ...</td>\n",
       "      <td>49,990</td>\n",
       "      <td></td>\n",
       "    </tr>\n",
       "  </tbody>\n",
       "</table>\n",
       "</div>"
      ],
      "text/plain": [
       "                                              Titles     Price Ratings\n",
       "0  MSI Modern 14, Intel 12th Gen. i7-1255U, 36CM ...    49,990        \n",
       "1  ASUS TUF Gaming F15, 15.6\"(39.62 cms) FHD 144H...    75,990        \n",
       "2  Samsung Galaxy Book3 Core i7 13th Gen 1355U - ...    89,990        \n",
       "3  Acer Predator Helios Neo 16 Gaming Laptop 13th...  1,29,900        \n",
       "4  HP Pavilion X360 11th Gen Intel Core i7 14\" (3...    85,990        \n",
       "5  Acer Aspire Lite 11th Gen Intel Core i7-1165G7...    50,500        \n",
       "6  HP Victus Gaming Laptop, 12th Gen Intel Core i...    86,490        \n",
       "7  HP Pavilion 14 11th Gen Intel Core i7 16GB/1TB...    89,999        \n",
       "8  (Refurbished) Acer Aspire Lite Premium Metal L...    42,491        \n",
       "9  MSI Modern 14, Intel 12th Gen. i7-1255U, 36CM ...    49,990        "
      ]
     },
     "execution_count": 177,
     "metadata": {},
     "output_type": "execute_result"
    }
   ],
   "source": [
    "import pandas as pd\n",
    "df = pd.DataFrame({'Titles':Title,'Price':Price,'Ratings':Ratings})\n",
    "df"
   ]
  },
  {
   "cell_type": "code",
   "execution_count": 178,
   "id": "4783a965",
   "metadata": {},
   "outputs": [],
   "source": [
    "##Q8"
   ]
  },
  {
   "cell_type": "code",
   "execution_count": 312,
   "id": "d6371ca1",
   "metadata": {},
   "outputs": [],
   "source": [
    "driver = webdriver.Chrome()\n",
    "driver.get(\"https://www.azquotes.com/\")"
   ]
  },
  {
   "cell_type": "code",
   "execution_count": 313,
   "id": "9f79aed9",
   "metadata": {},
   "outputs": [],
   "source": [
    "sclick = driver.find_element(By.XPATH,'/html/body/div[1]/div[1]/div[1]/div/div[3]/ul/li[5]/a')\n",
    "sclick.click()"
   ]
  },
  {
   "cell_type": "code",
   "execution_count": 314,
   "id": "f2937f98",
   "metadata": {},
   "outputs": [],
   "source": [
    "Quote = []\n",
    "Author = []\n",
    "Type_of_Quote = []"
   ]
  },
  {
   "cell_type": "code",
   "execution_count": 315,
   "id": "decf0d9e",
   "metadata": {},
   "outputs": [],
   "source": [
    "quote_tag = driver.find_elements(By.CLASS_NAME,\"title\")[0:100]\n",
    "for i in quote_tag:\n",
    "    quote = i.text\n",
    "    Quote.append(quote)"
   ]
  },
  {
   "cell_type": "code",
   "execution_count": 316,
   "id": "e5090508",
   "metadata": {},
   "outputs": [],
   "source": [
    "author_tag = driver.find_elements(By.CLASS_NAME,\"author\")\n",
    "for i in author_tag:\n",
    "    author = i.text\n",
    "    Author.append(author)"
   ]
  },
  {
   "cell_type": "code",
   "execution_count": 317,
   "id": "39446a09",
   "metadata": {},
   "outputs": [],
   "source": [
    "tq_tag = driver.find_elements(By.CLASS_NAME,\"tags\")\n",
    "for i in tq_tag:\n",
    "    tq = i.text\n",
    "    Type_of_Quote.append(tq)"
   ]
  },
  {
   "cell_type": "code",
   "execution_count": 318,
   "id": "de5f7660",
   "metadata": {},
   "outputs": [
    {
     "name": "stdout",
     "output_type": "stream",
     "text": [
      "100 (100, 100)\n"
     ]
    }
   ],
   "source": [
    "print(len(Quote),(len(Author),(len(Type_of_Quote))))"
   ]
  },
  {
   "cell_type": "code",
   "execution_count": 319,
   "id": "f5442e15",
   "metadata": {},
   "outputs": [],
   "source": [
    "nclick = driver.find_element(By.XPATH,'//*[@id=\"content\"]/div/div[1]/div/div[3]/li[12]/a')\n",
    "nclick.click()"
   ]
  },
  {
   "cell_type": "code",
   "execution_count": 320,
   "id": "03043d8b",
   "metadata": {},
   "outputs": [],
   "source": [
    "quote_tag = driver.find_elements(By.CLASS_NAME,\"title\")[0:100]\n",
    "for i in quote_tag:\n",
    "    quote = i.text\n",
    "    Quote.append(quote)\n",
    "    \n",
    "author_tag = driver.find_elements(By.CLASS_NAME,\"author\")\n",
    "for i in author_tag:\n",
    "    author = i.text\n",
    "    Author.append(author)\n",
    "    \n",
    "tq_tag = driver.find_elements(By.CLASS_NAME,\"tags\")\n",
    "for i in tq_tag:\n",
    "    tq = i.text\n",
    "    Type_of_Quote.append(tq)"
   ]
  },
  {
   "cell_type": "code",
   "execution_count": 321,
   "id": "a2c203da",
   "metadata": {},
   "outputs": [
    {
     "name": "stdout",
     "output_type": "stream",
     "text": [
      "200 (200, 200)\n"
     ]
    }
   ],
   "source": [
    "print(len(Quote),(len(Author),(len(Type_of_Quote))))"
   ]
  },
  {
   "cell_type": "code",
   "execution_count": 322,
   "id": "f13d00e8",
   "metadata": {},
   "outputs": [],
   "source": [
    "nclick = driver.find_element(By.XPATH,'/html/body/div[1]/div[2]/div/div/div/div[1]/div/div[4]/li[13]/a')\n",
    "nclick.click()\n",
    "\n",
    "\n"
   ]
  },
  {
   "cell_type": "code",
   "execution_count": 323,
   "id": "4f8f1469",
   "metadata": {},
   "outputs": [],
   "source": [
    "quote_tag = driver.find_elements(By.CLASS_NAME,\"title\")[0:100]\n",
    "for i in quote_tag:\n",
    "    quote = i.text\n",
    "    Quote.append(quote)\n",
    "    \n",
    "author_tag = driver.find_elements(By.CLASS_NAME,\"author\")\n",
    "for i in author_tag:\n",
    "    author = i.text\n",
    "    Author.append(author)\n",
    "    \n",
    "tq_tag = driver.find_elements(By.CLASS_NAME,\"tags\")\n",
    "for i in tq_tag:\n",
    "    tq = i.text\n",
    "    Type_of_Quote.append(tq)"
   ]
  },
  {
   "cell_type": "code",
   "execution_count": 324,
   "id": "b4ae30f6",
   "metadata": {},
   "outputs": [
    {
     "name": "stdout",
     "output_type": "stream",
     "text": [
      "300 (300, 300)\n"
     ]
    }
   ],
   "source": [
    "print(len(Quote),(len(Author),(len(Type_of_Quote))))"
   ]
  },
  {
   "cell_type": "code",
   "execution_count": 325,
   "id": "8c1d9267",
   "metadata": {},
   "outputs": [],
   "source": [
    "nclick = driver.find_element(By.XPATH,'/html/body/div[1]/div[2]/div/div/div/div[1]/div/div[4]/li[13]/a')\n",
    "nclick.click()\n"
   ]
  },
  {
   "cell_type": "code",
   "execution_count": 326,
   "id": "33e81add",
   "metadata": {},
   "outputs": [],
   "source": [
    "quote_tag = driver.find_elements(By.CLASS_NAME,\"title\")[0:100]\n",
    "for i in quote_tag:\n",
    "    quote = i.text\n",
    "    Quote.append(quote)\n",
    "    \n",
    "author_tag = driver.find_elements(By.CLASS_NAME,\"author\")\n",
    "for i in author_tag:\n",
    "    author = i.text\n",
    "    Author.append(author)\n",
    "    \n",
    "tq_tag = driver.find_elements(By.CLASS_NAME,\"tags\")\n",
    "for i in tq_tag:\n",
    "    tq = i.text\n",
    "    Type_of_Quote.append(tq)"
   ]
  },
  {
   "cell_type": "code",
   "execution_count": 327,
   "id": "d1aae730",
   "metadata": {},
   "outputs": [
    {
     "name": "stdout",
     "output_type": "stream",
     "text": [
      "400 (400, 400)\n"
     ]
    }
   ],
   "source": [
    "print(len(Quote),(len(Author),(len(Type_of_Quote))))"
   ]
  },
  {
   "cell_type": "code",
   "execution_count": 328,
   "id": "bb807b92",
   "metadata": {},
   "outputs": [],
   "source": [
    "nclick = driver.find_element(By.XPATH,'/html/body/div[1]/div[2]/div/div/div/div[1]/div/div[4]/li[13]/a')\n",
    "nclick.click()\n"
   ]
  },
  {
   "cell_type": "code",
   "execution_count": 329,
   "id": "2a74d845",
   "metadata": {},
   "outputs": [],
   "source": [
    "quote_tag = driver.find_elements(By.CLASS_NAME,\"title\")[0:100]\n",
    "for i in quote_tag:\n",
    "    quote = i.text\n",
    "    Quote.append(quote)\n",
    "    \n",
    "author_tag = driver.find_elements(By.CLASS_NAME,\"author\")\n",
    "for i in author_tag:\n",
    "    author = i.text\n",
    "    Author.append(author)\n",
    "    \n",
    "tq_tag = driver.find_elements(By.CLASS_NAME,\"tags\")\n",
    "for i in tq_tag:\n",
    "    tq = i.text\n",
    "    Type_of_Quote.append(tq)"
   ]
  },
  {
   "cell_type": "code",
   "execution_count": 330,
   "id": "b53c8646",
   "metadata": {},
   "outputs": [
    {
     "name": "stdout",
     "output_type": "stream",
     "text": [
      "500 (500, 500)\n"
     ]
    }
   ],
   "source": [
    "print(len(Quote),(len(Author),(len(Type_of_Quote))))"
   ]
  },
  {
   "cell_type": "code",
   "execution_count": 331,
   "id": "19355fb2",
   "metadata": {},
   "outputs": [],
   "source": [
    "nclick = driver.find_element(By.XPATH,'/html/body/div[1]/div[2]/div/div/div/div[1]/div/div[4]/li[13]/a')\n",
    "nclick.click()\n"
   ]
  },
  {
   "cell_type": "code",
   "execution_count": 332,
   "id": "a4c215dd",
   "metadata": {},
   "outputs": [],
   "source": [
    "quote_tag = driver.find_elements(By.CLASS_NAME,\"title\")[0:100]\n",
    "for i in quote_tag:\n",
    "    quote = i.text\n",
    "    Quote.append(quote)\n",
    "    \n",
    "author_tag = driver.find_elements(By.CLASS_NAME,\"author\")\n",
    "for i in author_tag:\n",
    "    author = i.text\n",
    "    Author.append(author)\n",
    "    \n",
    "tq_tag = driver.find_elements(By.CLASS_NAME,\"tags\")\n",
    "for i in tq_tag:\n",
    "    tq = i.text\n",
    "    Type_of_Quote.append(tq)"
   ]
  },
  {
   "cell_type": "code",
   "execution_count": 333,
   "id": "cb708e7e",
   "metadata": {},
   "outputs": [
    {
     "name": "stdout",
     "output_type": "stream",
     "text": [
      "600 (600, 600)\n"
     ]
    }
   ],
   "source": [
    "print(len(Quote),(len(Author),(len(Type_of_Quote))))"
   ]
  },
  {
   "cell_type": "code",
   "execution_count": 334,
   "id": "21f15e0c",
   "metadata": {},
   "outputs": [],
   "source": [
    "nclick = driver.find_element(By.XPATH,'/html/body/div[1]/div[2]/div/div/div/div[1]/div/div[4]/li[13]/a')\n",
    "nclick.click()\n"
   ]
  },
  {
   "cell_type": "code",
   "execution_count": 335,
   "id": "b7fbc888",
   "metadata": {},
   "outputs": [],
   "source": [
    "quote_tag = driver.find_elements(By.CLASS_NAME,\"title\")[0:100]\n",
    "for i in quote_tag:\n",
    "    quote = i.text\n",
    "    Quote.append(quote)\n",
    "    \n",
    "author_tag = driver.find_elements(By.CLASS_NAME,\"author\")\n",
    "for i in author_tag:\n",
    "    author = i.text\n",
    "    Author.append(author)\n",
    "    \n",
    "tq_tag = driver.find_elements(By.CLASS_NAME,\"tags\")\n",
    "for i in tq_tag:\n",
    "    tq = i.text\n",
    "    Type_of_Quote.append(tq)"
   ]
  },
  {
   "cell_type": "code",
   "execution_count": 336,
   "id": "4d63d3bb",
   "metadata": {},
   "outputs": [
    {
     "name": "stdout",
     "output_type": "stream",
     "text": [
      "700 (700, 700)\n"
     ]
    }
   ],
   "source": [
    "print(len(Quote),(len(Author),(len(Type_of_Quote))))"
   ]
  },
  {
   "cell_type": "code",
   "execution_count": 337,
   "id": "fb759c1e",
   "metadata": {},
   "outputs": [],
   "source": [
    "nclick = driver.find_element(By.XPATH,'/html/body/div[1]/div[2]/div/div/div/div[1]/div/div[4]/li[13]/a')\n",
    "nclick.click()\n"
   ]
  },
  {
   "cell_type": "code",
   "execution_count": 338,
   "id": "bf3525d9",
   "metadata": {},
   "outputs": [],
   "source": [
    "quote_tag = driver.find_elements(By.CLASS_NAME,\"title\")[0:100]\n",
    "for i in quote_tag:\n",
    "    quote = i.text\n",
    "    Quote.append(quote)\n",
    "    \n",
    "author_tag = driver.find_elements(By.CLASS_NAME,\"author\")\n",
    "for i in author_tag:\n",
    "    author = i.text\n",
    "    Author.append(author)\n",
    "    \n",
    "tq_tag = driver.find_elements(By.CLASS_NAME,\"tags\")\n",
    "for i in tq_tag:\n",
    "    tq = i.text\n",
    "    Type_of_Quote.append(tq)"
   ]
  },
  {
   "cell_type": "code",
   "execution_count": 339,
   "id": "4819fde3",
   "metadata": {},
   "outputs": [
    {
     "name": "stdout",
     "output_type": "stream",
     "text": [
      "800 (800, 800)\n"
     ]
    }
   ],
   "source": [
    "print(len(Quote),(len(Author),(len(Type_of_Quote))))"
   ]
  },
  {
   "cell_type": "code",
   "execution_count": 340,
   "id": "00b338a9",
   "metadata": {},
   "outputs": [],
   "source": [
    "nclick = driver.find_element(By.XPATH,'/html/body/div[1]/div[2]/div/div/div/div[1]/div/div[4]/li[13]/a')\n",
    "nclick.click()\n"
   ]
  },
  {
   "cell_type": "code",
   "execution_count": 341,
   "id": "d534e842",
   "metadata": {},
   "outputs": [],
   "source": [
    "quote_tag = driver.find_elements(By.CLASS_NAME,\"title\")[0:100]\n",
    "for i in quote_tag:\n",
    "    quote = i.text\n",
    "    Quote.append(quote)\n",
    "    \n",
    "author_tag = driver.find_elements(By.CLASS_NAME,\"author\")\n",
    "for i in author_tag:\n",
    "    author = i.text\n",
    "    Author.append(author)\n",
    "    \n",
    "tq_tag = driver.find_elements(By.CLASS_NAME,\"tags\")\n",
    "for i in tq_tag:\n",
    "    tq = i.text\n",
    "    Type_of_Quote.append(tq)"
   ]
  },
  {
   "cell_type": "code",
   "execution_count": 342,
   "id": "18ca58d5",
   "metadata": {},
   "outputs": [
    {
     "name": "stdout",
     "output_type": "stream",
     "text": [
      "900 (900, 900)\n"
     ]
    }
   ],
   "source": [
    "print(len(Quote),(len(Author),(len(Type_of_Quote))))"
   ]
  },
  {
   "cell_type": "code",
   "execution_count": 343,
   "id": "c56ff5e1",
   "metadata": {},
   "outputs": [],
   "source": [
    "nclick = driver.find_element(By.XPATH,'/html/body/div[1]/div[2]/div/div/div/div[1]/div/div[4]/li[13]/a')\n",
    "nclick.click()\n"
   ]
  },
  {
   "cell_type": "code",
   "execution_count": 344,
   "id": "7286125d",
   "metadata": {},
   "outputs": [],
   "source": [
    "quote_tag = driver.find_elements(By.CLASS_NAME,\"title\")[0:100]\n",
    "for i in quote_tag:\n",
    "    quote = i.text\n",
    "    Quote.append(quote)\n",
    "    \n",
    "author_tag = driver.find_elements(By.CLASS_NAME,\"author\")\n",
    "for i in author_tag:\n",
    "    author = i.text\n",
    "    Author.append(author)\n",
    "    \n",
    "tq_tag = driver.find_elements(By.CLASS_NAME,\"tags\")\n",
    "for i in tq_tag:\n",
    "    tq = i.text\n",
    "    Type_of_Quote.append(tq)"
   ]
  },
  {
   "cell_type": "code",
   "execution_count": 345,
   "id": "e84a8302",
   "metadata": {},
   "outputs": [
    {
     "name": "stdout",
     "output_type": "stream",
     "text": [
      "1000 (1000, 1000)\n"
     ]
    }
   ],
   "source": [
    "print(len(Quote),(len(Author),(len(Type_of_Quote))))"
   ]
  },
  {
   "cell_type": "code",
   "execution_count": 346,
   "id": "df92d71a",
   "metadata": {},
   "outputs": [
    {
     "data": {
      "text/html": [
       "<div>\n",
       "<style scoped>\n",
       "    .dataframe tbody tr th:only-of-type {\n",
       "        vertical-align: middle;\n",
       "    }\n",
       "\n",
       "    .dataframe tbody tr th {\n",
       "        vertical-align: top;\n",
       "    }\n",
       "\n",
       "    .dataframe thead th {\n",
       "        text-align: right;\n",
       "    }\n",
       "</style>\n",
       "<table border=\"1\" class=\"dataframe\">\n",
       "  <thead>\n",
       "    <tr style=\"text-align: right;\">\n",
       "      <th></th>\n",
       "      <th>Quote</th>\n",
       "      <th>Author</th>\n",
       "      <th>Type_of_Quote</th>\n",
       "    </tr>\n",
       "  </thead>\n",
       "  <tbody>\n",
       "    <tr>\n",
       "      <th>0</th>\n",
       "      <td>Authors:</td>\n",
       "      <td>Michael Porter</td>\n",
       "      <td>Essence, Deep Thought, Transcendentalism</td>\n",
       "    </tr>\n",
       "    <tr>\n",
       "      <th>1</th>\n",
       "      <td>The essence of strategy is choosing what not t...</td>\n",
       "      <td>Golda Meir</td>\n",
       "      <td>Inspiration, Past, Trying</td>\n",
       "    </tr>\n",
       "    <tr>\n",
       "      <th>2</th>\n",
       "      <td>One cannot and must not try to erase the past ...</td>\n",
       "      <td>Theodore Roosevelt</td>\n",
       "      <td>Country, Peace, War</td>\n",
       "    </tr>\n",
       "    <tr>\n",
       "      <th>3</th>\n",
       "      <td>Patriotism means to stand by the country. It d...</td>\n",
       "      <td>Nelson Mandela</td>\n",
       "      <td>Inspirational, Motivational, Death</td>\n",
       "    </tr>\n",
       "    <tr>\n",
       "      <th>4</th>\n",
       "      <td>Death is something inevitable. When a man has ...</td>\n",
       "      <td>Erma Bombeck</td>\n",
       "      <td>4th Of July, Food, Patriotic</td>\n",
       "    </tr>\n",
       "    <tr>\n",
       "      <th>...</th>\n",
       "      <td>...</td>\n",
       "      <td>...</td>\n",
       "      <td>...</td>\n",
       "    </tr>\n",
       "    <tr>\n",
       "      <th>995</th>\n",
       "      <td>Leaders must be close enough to relate to othe...</td>\n",
       "      <td>Sydney J. Harris</td>\n",
       "      <td>Love, Inspirational, Motivational</td>\n",
       "    </tr>\n",
       "    <tr>\n",
       "      <th>996</th>\n",
       "      <td>Regret for the things we did can be tempered b...</td>\n",
       "      <td>Hunter S. Thompson</td>\n",
       "      <td>Gun, Two, Qualms About</td>\n",
       "    </tr>\n",
       "    <tr>\n",
       "      <th>997</th>\n",
       "      <td>America... just a nation of two hundred millio...</td>\n",
       "      <td>Jim Rohn</td>\n",
       "      <td>Inspirational, Greatness, Best Effort</td>\n",
       "    </tr>\n",
       "    <tr>\n",
       "      <th>998</th>\n",
       "      <td>For every disciplined effort there is a multip...</td>\n",
       "      <td>Ram Dass</td>\n",
       "      <td>Spiritual, Truth, Yoga</td>\n",
       "    </tr>\n",
       "    <tr>\n",
       "      <th>999</th>\n",
       "      <td>The spiritual journey is individual, highly pe...</td>\n",
       "      <td>Plutarch</td>\n",
       "      <td>Inspirational, Leadership, Education</td>\n",
       "    </tr>\n",
       "  </tbody>\n",
       "</table>\n",
       "<p>1000 rows × 3 columns</p>\n",
       "</div>"
      ],
      "text/plain": [
       "                                                 Quote              Author  \\\n",
       "0                                             Authors:      Michael Porter   \n",
       "1    The essence of strategy is choosing what not t...          Golda Meir   \n",
       "2    One cannot and must not try to erase the past ...  Theodore Roosevelt   \n",
       "3    Patriotism means to stand by the country. It d...      Nelson Mandela   \n",
       "4    Death is something inevitable. When a man has ...        Erma Bombeck   \n",
       "..                                                 ...                 ...   \n",
       "995  Leaders must be close enough to relate to othe...    Sydney J. Harris   \n",
       "996  Regret for the things we did can be tempered b...  Hunter S. Thompson   \n",
       "997  America... just a nation of two hundred millio...            Jim Rohn   \n",
       "998  For every disciplined effort there is a multip...            Ram Dass   \n",
       "999  The spiritual journey is individual, highly pe...            Plutarch   \n",
       "\n",
       "                                Type_of_Quote  \n",
       "0    Essence, Deep Thought, Transcendentalism  \n",
       "1                   Inspiration, Past, Trying  \n",
       "2                         Country, Peace, War  \n",
       "3          Inspirational, Motivational, Death  \n",
       "4                4th Of July, Food, Patriotic  \n",
       "..                                        ...  \n",
       "995         Love, Inspirational, Motivational  \n",
       "996                    Gun, Two, Qualms About  \n",
       "997     Inspirational, Greatness, Best Effort  \n",
       "998                    Spiritual, Truth, Yoga  \n",
       "999      Inspirational, Leadership, Education  \n",
       "\n",
       "[1000 rows x 3 columns]"
      ]
     },
     "execution_count": 346,
     "metadata": {},
     "output_type": "execute_result"
    }
   ],
   "source": [
    "import pandas as pd\n",
    "df = pd.DataFrame({'Quote':Quote,'Author':Author,'Type_of_Quote':Type_of_Quote})\n",
    "df\n"
   ]
  },
  {
   "cell_type": "code",
   "execution_count": 347,
   "id": "6df2265c",
   "metadata": {},
   "outputs": [],
   "source": [
    "##Q9\n"
   ]
  },
  {
   "cell_type": "code",
   "execution_count": 3,
   "id": "e8ac5a31",
   "metadata": {},
   "outputs": [],
   "source": [
    "driver = webdriver.Chrome()\n",
    "driver.get('https://www.motor1.com/')"
   ]
  },
  {
   "cell_type": "code",
   "execution_count": 4,
   "id": "72404de5",
   "metadata": {},
   "outputs": [],
   "source": [
    "search = driver.find_element(By.XPATH,'/html/body/div[10]/div[2]/div/div/div[3]/div/div/div/form/input')\n",
    "search.send_keys('50 most expensive cars in the world')\n"
   ]
  },
  {
   "cell_type": "code",
   "execution_count": 5,
   "id": "f07a9c5d",
   "metadata": {},
   "outputs": [],
   "source": [
    "nclick = driver.find_element(By.XPATH,'/html/body/div[10]/div[2]/div/div/div[3]/div/div/div/form/button[1]')\n",
    "nclick.click()\n"
   ]
  },
  {
   "cell_type": "code",
   "execution_count": 7,
   "id": "5f8c7558",
   "metadata": {},
   "outputs": [],
   "source": [
    "nclick = driver.find_element(By.XPATH,'//div[@class=\"text-box\"]/h3')\n",
    "nclick.click()\n"
   ]
  },
  {
   "cell_type": "code",
   "execution_count": 8,
   "id": "1428900b",
   "metadata": {},
   "outputs": [],
   "source": [
    "car_name = []\n",
    "price = []\n"
   ]
  },
  {
   "cell_type": "code",
   "execution_count": 9,
   "id": "c65915f2",
   "metadata": {},
   "outputs": [],
   "source": [
    "car_tag = driver.find_elements(By.CLASS_NAME,\"subheader\")\n",
    "for i in car_tag:\n",
    "    car = i.text\n",
    "    car_name.append(car)"
   ]
  },
  {
   "cell_type": "code",
   "execution_count": 11,
   "id": "7a5a0b6b",
   "metadata": {},
   "outputs": [
    {
     "name": "stdout",
     "output_type": "stream",
     "text": [
      "51\n"
     ]
    }
   ],
   "source": [
    "print(len(car_name))"
   ]
  },
  {
   "cell_type": "code",
   "execution_count": 23,
   "id": "decdd923",
   "metadata": {},
   "outputs": [
    {
     "data": {
      "text/html": [
       "<div>\n",
       "<style scoped>\n",
       "    .dataframe tbody tr th:only-of-type {\n",
       "        vertical-align: middle;\n",
       "    }\n",
       "\n",
       "    .dataframe tbody tr th {\n",
       "        vertical-align: top;\n",
       "    }\n",
       "\n",
       "    .dataframe thead th {\n",
       "        text-align: right;\n",
       "    }\n",
       "</style>\n",
       "<table border=\"1\" class=\"dataframe\">\n",
       "  <thead>\n",
       "    <tr style=\"text-align: right;\">\n",
       "      <th></th>\n",
       "      <th>Car Name</th>\n",
       "    </tr>\n",
       "  </thead>\n",
       "  <tbody>\n",
       "    <tr>\n",
       "      <th>0</th>\n",
       "      <td>Aston Martin Valour</td>\n",
       "    </tr>\n",
       "    <tr>\n",
       "      <th>1</th>\n",
       "      <td>McLaren Elva</td>\n",
       "    </tr>\n",
       "    <tr>\n",
       "      <th>2</th>\n",
       "      <td>Czinger 21C</td>\n",
       "    </tr>\n",
       "    <tr>\n",
       "      <th>3</th>\n",
       "      <td>Ferrari Monza</td>\n",
       "    </tr>\n",
       "    <tr>\n",
       "      <th>4</th>\n",
       "      <td>Gordon Murray T.33</td>\n",
       "    </tr>\n",
       "    <tr>\n",
       "      <th>5</th>\n",
       "      <td>Koenigsegg Gemera</td>\n",
       "    </tr>\n",
       "    <tr>\n",
       "      <th>6</th>\n",
       "      <td>Zenvo TSR-S</td>\n",
       "    </tr>\n",
       "    <tr>\n",
       "      <th>7</th>\n",
       "      <td>Hennessey Venom F5</td>\n",
       "    </tr>\n",
       "    <tr>\n",
       "      <th>8</th>\n",
       "      <td>Bentley Bacalar</td>\n",
       "    </tr>\n",
       "    <tr>\n",
       "      <th>9</th>\n",
       "      <td>Hispano Suiza Carmen Boulogne</td>\n",
       "    </tr>\n",
       "    <tr>\n",
       "      <th>10</th>\n",
       "      <td>Bentley Mulliner Batur</td>\n",
       "    </tr>\n",
       "    <tr>\n",
       "      <th>11</th>\n",
       "      <td>Deus Vayanne</td>\n",
       "    </tr>\n",
       "    <tr>\n",
       "      <th>12</th>\n",
       "      <td>SSC Tuatara</td>\n",
       "    </tr>\n",
       "    <tr>\n",
       "      <th>13</th>\n",
       "      <td>Lotus Evija</td>\n",
       "    </tr>\n",
       "    <tr>\n",
       "      <th>14</th>\n",
       "      <td>Aston Martin Vulcan</td>\n",
       "    </tr>\n",
       "    <tr>\n",
       "      <th>15</th>\n",
       "      <td>Delage D12</td>\n",
       "    </tr>\n",
       "    <tr>\n",
       "      <th>16</th>\n",
       "      <td>Ferrari Daytona SP3</td>\n",
       "    </tr>\n",
       "    <tr>\n",
       "      <th>17</th>\n",
       "      <td>McLaren Speedtail</td>\n",
       "    </tr>\n",
       "    <tr>\n",
       "      <th>18</th>\n",
       "      <td>Rimac Nevera</td>\n",
       "    </tr>\n",
       "    <tr>\n",
       "      <th>19</th>\n",
       "      <td>Pagani Utopia</td>\n",
       "    </tr>\n",
       "    <tr>\n",
       "      <th>20</th>\n",
       "      <td>Pininfarina Battista</td>\n",
       "    </tr>\n",
       "    <tr>\n",
       "      <th>21</th>\n",
       "      <td>Gordon Murray T.50</td>\n",
       "    </tr>\n",
       "    <tr>\n",
       "      <th>22</th>\n",
       "      <td>Lamborghini Countach</td>\n",
       "    </tr>\n",
       "    <tr>\n",
       "      <th>23</th>\n",
       "      <td>Mercedes-AMG Project One</td>\n",
       "    </tr>\n",
       "    <tr>\n",
       "      <th>24</th>\n",
       "      <td>Zenvo Aurora</td>\n",
       "    </tr>\n",
       "    <tr>\n",
       "      <th>25</th>\n",
       "      <td>Aston Martin Victor</td>\n",
       "    </tr>\n",
       "    <tr>\n",
       "      <th>26</th>\n",
       "      <td>Hennessey Venom F5 Roadster</td>\n",
       "    </tr>\n",
       "    <tr>\n",
       "      <th>27</th>\n",
       "      <td>Koenigsegg Jesko</td>\n",
       "    </tr>\n",
       "    <tr>\n",
       "      <th>28</th>\n",
       "      <td>Aston Martin Valkyrie</td>\n",
       "    </tr>\n",
       "    <tr>\n",
       "      <th>29</th>\n",
       "      <td>W Motors Lykan Hypersport</td>\n",
       "    </tr>\n",
       "    <tr>\n",
       "      <th>30</th>\n",
       "      <td>McLaren Solus</td>\n",
       "    </tr>\n",
       "    <tr>\n",
       "      <th>31</th>\n",
       "      <td>Lamborghini Sian</td>\n",
       "    </tr>\n",
       "    <tr>\n",
       "      <th>32</th>\n",
       "      <td>Koenigsegg CC850</td>\n",
       "    </tr>\n",
       "    <tr>\n",
       "      <th>33</th>\n",
       "      <td>Bugatti Chiron Super Sport 300+</td>\n",
       "    </tr>\n",
       "    <tr>\n",
       "      <th>34</th>\n",
       "      <td>Lamborghini Veneno</td>\n",
       "    </tr>\n",
       "    <tr>\n",
       "      <th>35</th>\n",
       "      <td>Bugatti Bolide</td>\n",
       "    </tr>\n",
       "    <tr>\n",
       "      <th>36</th>\n",
       "      <td>Pininfarina B95 Speedster</td>\n",
       "    </tr>\n",
       "    <tr>\n",
       "      <th>37</th>\n",
       "      <td>Bugatti Mistral</td>\n",
       "    </tr>\n",
       "    <tr>\n",
       "      <th>38</th>\n",
       "      <td>Pagani Huayra Imola</td>\n",
       "    </tr>\n",
       "    <tr>\n",
       "      <th>39</th>\n",
       "      <td>Bugatti Divo</td>\n",
       "    </tr>\n",
       "    <tr>\n",
       "      <th>40</th>\n",
       "      <td>SP Automotive Chaos</td>\n",
       "    </tr>\n",
       "    <tr>\n",
       "      <th>41</th>\n",
       "      <td>Pagani Codalunga</td>\n",
       "    </tr>\n",
       "    <tr>\n",
       "      <th>42</th>\n",
       "      <td>777 Hypercar</td>\n",
       "    </tr>\n",
       "    <tr>\n",
       "      <th>43</th>\n",
       "      <td>Mercedes-Maybach Exelero</td>\n",
       "    </tr>\n",
       "    <tr>\n",
       "      <th>44</th>\n",
       "      <td>Bugatti Centodieci</td>\n",
       "    </tr>\n",
       "    <tr>\n",
       "      <th>45</th>\n",
       "      <td>Bugatti Chiron Profilée</td>\n",
       "    </tr>\n",
       "    <tr>\n",
       "      <th>46</th>\n",
       "      <td>Rolls-Royce Sweptail</td>\n",
       "    </tr>\n",
       "    <tr>\n",
       "      <th>47</th>\n",
       "      <td>Bugatti La Voiture Noire</td>\n",
       "    </tr>\n",
       "    <tr>\n",
       "      <th>48</th>\n",
       "      <td>Rolls-Royce Boat Tail*</td>\n",
       "    </tr>\n",
       "    <tr>\n",
       "      <th>49</th>\n",
       "      <td>Rolls-Royce La Rose Noire Droptail</td>\n",
       "    </tr>\n",
       "    <tr>\n",
       "      <th>50</th>\n",
       "      <td>Most Expensive Cars In The World</td>\n",
       "    </tr>\n",
       "  </tbody>\n",
       "</table>\n",
       "</div>"
      ],
      "text/plain": [
       "                              Car Name\n",
       "0                  Aston Martin Valour\n",
       "1                         McLaren Elva\n",
       "2                          Czinger 21C\n",
       "3                        Ferrari Monza\n",
       "4                   Gordon Murray T.33\n",
       "5                    Koenigsegg Gemera\n",
       "6                          Zenvo TSR-S\n",
       "7                   Hennessey Venom F5\n",
       "8                      Bentley Bacalar\n",
       "9        Hispano Suiza Carmen Boulogne\n",
       "10              Bentley Mulliner Batur\n",
       "11                        Deus Vayanne\n",
       "12                         SSC Tuatara\n",
       "13                         Lotus Evija\n",
       "14                 Aston Martin Vulcan\n",
       "15                          Delage D12\n",
       "16                 Ferrari Daytona SP3\n",
       "17                   McLaren Speedtail\n",
       "18                        Rimac Nevera\n",
       "19                       Pagani Utopia\n",
       "20                Pininfarina Battista\n",
       "21                  Gordon Murray T.50\n",
       "22                Lamborghini Countach\n",
       "23            Mercedes-AMG Project One\n",
       "24                        Zenvo Aurora\n",
       "25                 Aston Martin Victor\n",
       "26         Hennessey Venom F5 Roadster\n",
       "27                    Koenigsegg Jesko\n",
       "28               Aston Martin Valkyrie\n",
       "29           W Motors Lykan Hypersport\n",
       "30                       McLaren Solus\n",
       "31                    Lamborghini Sian\n",
       "32                    Koenigsegg CC850\n",
       "33     Bugatti Chiron Super Sport 300+\n",
       "34                  Lamborghini Veneno\n",
       "35                      Bugatti Bolide\n",
       "36           Pininfarina B95 Speedster\n",
       "37                     Bugatti Mistral\n",
       "38                 Pagani Huayra Imola\n",
       "39                        Bugatti Divo\n",
       "40                 SP Automotive Chaos\n",
       "41                    Pagani Codalunga\n",
       "42                        777 Hypercar\n",
       "43            Mercedes-Maybach Exelero\n",
       "44                  Bugatti Centodieci\n",
       "45             Bugatti Chiron Profilée\n",
       "46                Rolls-Royce Sweptail\n",
       "47            Bugatti La Voiture Noire\n",
       "48              Rolls-Royce Boat Tail*\n",
       "49  Rolls-Royce La Rose Noire Droptail\n",
       "50    Most Expensive Cars In The World"
      ]
     },
     "execution_count": 23,
     "metadata": {},
     "output_type": "execute_result"
    }
   ],
   "source": [
    "import pandas as pd\n",
    "df = pd.DataFrame({'Car Name':car_name})\n",
    "df"
   ]
  },
  {
   "cell_type": "code",
   "execution_count": null,
   "id": "c83c3667",
   "metadata": {},
   "outputs": [],
   "source": []
  },
  {
   "cell_type": "code",
   "execution_count": null,
   "id": "64afab0e",
   "metadata": {},
   "outputs": [],
   "source": []
  }
 ],
 "metadata": {
  "kernelspec": {
   "display_name": "Python 3 (ipykernel)",
   "language": "python",
   "name": "python3"
  },
  "language_info": {
   "codemirror_mode": {
    "name": "ipython",
    "version": 3
   },
   "file_extension": ".py",
   "mimetype": "text/x-python",
   "name": "python",
   "nbconvert_exporter": "python",
   "pygments_lexer": "ipython3",
   "version": "3.10.9"
  }
 },
 "nbformat": 4,
 "nbformat_minor": 5
}
